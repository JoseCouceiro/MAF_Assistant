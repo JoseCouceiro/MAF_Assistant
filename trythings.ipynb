{
 "cells": [
  {
   "cell_type": "code",
   "execution_count": 21,
   "metadata": {},
   "outputs": [],
   "source": [
    "import deepl\n",
    "import metapub\n",
    "from deepl_conect import Translate\n",
    "from config import cfg_item\n",
    "from config import Config"
   ]
  },
  {
   "cell_type": "markdown",
   "metadata": {},
   "source": [
    "## deepl"
   ]
  },
  {
   "cell_type": "code",
   "execution_count": 22,
   "metadata": {},
   "outputs": [],
   "source": [
    "auth_key_txt = \"e4e14485-7b4b-be5b-ed0c-229c80f91493:fx\""
   ]
  },
  {
   "cell_type": "code",
   "execution_count": 23,
   "metadata": {},
   "outputs": [],
   "source": [
    "#configurator = Config()"
   ]
  },
  {
   "cell_type": "code",
   "execution_count": 24,
   "metadata": {},
   "outputs": [],
   "source": [
    "auth_key = cfg_item('keys', 'deepl')"
   ]
  },
  {
   "cell_type": "code",
   "execution_count": 25,
   "metadata": {},
   "outputs": [],
   "source": [
    "transl = Translate()"
   ]
  },
  {
   "cell_type": "code",
   "execution_count": 26,
   "metadata": {},
   "outputs": [
    {
     "name": "stdout",
     "output_type": "stream",
     "text": [
      "c:\\Users\\josin\\anaconda3\\envs\\journalrater\\Lib\\site-packages\\deepl\\__init__.py\n"
     ]
    }
   ],
   "source": [
    "print(deepl.__file__)"
   ]
  },
  {
   "cell_type": "code",
   "execution_count": 27,
   "metadata": {},
   "outputs": [
    {
     "name": "stderr",
     "output_type": "stream",
     "text": [
      "\u001b[32m2024-04-29 19:59:58\u001b[0m \u001b[35mMSI-Jose\u001b[0m \u001b[34mdeepl[26256]\u001b[0m \u001b[1;30mINFO\u001b[0m Request to DeepL API method=POST url=https://api-free.deepl.com/v2/translate\n",
      "\u001b[32m2024-04-29 19:59:58\u001b[0m \u001b[35mMSI-Jose\u001b[0m \u001b[34mdeepl[26256]\u001b[0m \u001b[1;30mINFO\u001b[0m DeepL API response status_code=456 url=https://api-free.deepl.com/v2/translate\n"
     ]
    },
    {
     "ename": "QuotaExceededException",
     "evalue": "Quota for this billing period has been exceeded, message: Quota Exceeded",
     "output_type": "error",
     "traceback": [
      "\u001b[1;31m---------------------------------------------------------------------------\u001b[0m",
      "\u001b[1;31mQuotaExceededException\u001b[0m                    Traceback (most recent call last)",
      "Cell \u001b[1;32mIn[27], line 1\u001b[0m\n\u001b[1;32m----> 1\u001b[0m sentence \u001b[38;5;241m=\u001b[39m \u001b[43mtransl\u001b[49m\u001b[38;5;241;43m.\u001b[39;49m\u001b[43mtranslate_to_sp\u001b[49m\u001b[43m(\u001b[49m\u001b[38;5;124;43m'\u001b[39;49m\u001b[38;5;124;43mhello world\u001b[39;49m\u001b[38;5;124;43m'\u001b[39;49m\u001b[43m)\u001b[49m\n",
      "File \u001b[1;32mc:\\Users\\josin\\GitRepositories\\JournalRater\\deepl_conect.py:14\u001b[0m, in \u001b[0;36mTranslate.translate_to_sp\u001b[1;34m(self, sentence)\u001b[0m\n\u001b[0;32m     13\u001b[0m \u001b[38;5;28;01mdef\u001b[39;00m \u001b[38;5;21mtranslate_to_sp\u001b[39m(\u001b[38;5;28mself\u001b[39m, sentence):\n\u001b[1;32m---> 14\u001b[0m     __sentence_sp \u001b[38;5;241m=\u001b[39m \u001b[38;5;28;43mself\u001b[39;49m\u001b[38;5;241;43m.\u001b[39;49m\u001b[43m__translator\u001b[49m\u001b[38;5;241;43m.\u001b[39;49m\u001b[43mtranslate_text\u001b[49m\u001b[43m(\u001b[49m\u001b[43msentence\u001b[49m\u001b[43m,\u001b[49m\u001b[43m \u001b[49m\u001b[43mtarget_lang\u001b[49m\u001b[43m \u001b[49m\u001b[38;5;241;43m=\u001b[39;49m\u001b[43m \u001b[49m\u001b[38;5;124;43m\"\u001b[39;49m\u001b[38;5;124;43mES\u001b[39;49m\u001b[38;5;124;43m\"\u001b[39;49m\u001b[43m)\u001b[49m\n\u001b[0;32m     16\u001b[0m     \u001b[38;5;28;01mreturn\u001b[39;00m __sentence_sp\n",
      "File \u001b[1;32mc:\\Users\\josin\\anaconda3\\envs\\journalrater\\Lib\\site-packages\\deepl\\translator.py:446\u001b[0m, in \u001b[0;36mTranslator.translate_text\u001b[1;34m(self, text, source_lang, target_lang, context, split_sentences, preserve_formatting, formality, glossary, tag_handling, outline_detection, non_splitting_tags, splitting_tags, ignore_tags)\u001b[0m\n\u001b[0;32m    440\u001b[0m     request_data[\u001b[38;5;124m\"\u001b[39m\u001b[38;5;124mignore_tags\u001b[39m\u001b[38;5;124m\"\u001b[39m] \u001b[38;5;241m=\u001b[39m join_tags(ignore_tags)\n\u001b[0;32m    442\u001b[0m status, content, json \u001b[38;5;241m=\u001b[39m \u001b[38;5;28mself\u001b[39m\u001b[38;5;241m.\u001b[39m_api_call(\n\u001b[0;32m    443\u001b[0m     \u001b[38;5;124m\"\u001b[39m\u001b[38;5;124mv2/translate\u001b[39m\u001b[38;5;124m\"\u001b[39m, json\u001b[38;5;241m=\u001b[39mrequest_data\n\u001b[0;32m    444\u001b[0m )\n\u001b[1;32m--> 446\u001b[0m \u001b[38;5;28;43mself\u001b[39;49m\u001b[38;5;241;43m.\u001b[39;49m\u001b[43m_raise_for_status\u001b[49m\u001b[43m(\u001b[49m\u001b[43mstatus\u001b[49m\u001b[43m,\u001b[49m\u001b[43m \u001b[49m\u001b[43mcontent\u001b[49m\u001b[43m,\u001b[49m\u001b[43m \u001b[49m\u001b[43mjson\u001b[49m\u001b[43m)\u001b[49m\n\u001b[0;32m    448\u001b[0m translations \u001b[38;5;241m=\u001b[39m (\n\u001b[0;32m    449\u001b[0m     json\u001b[38;5;241m.\u001b[39mget(\u001b[38;5;124m\"\u001b[39m\u001b[38;5;124mtranslations\u001b[39m\u001b[38;5;124m\"\u001b[39m, [])\n\u001b[0;32m    450\u001b[0m     \u001b[38;5;28;01mif\u001b[39;00m (json \u001b[38;5;129;01mand\u001b[39;00m \u001b[38;5;28misinstance\u001b[39m(json, \u001b[38;5;28mdict\u001b[39m))\n\u001b[0;32m    451\u001b[0m     \u001b[38;5;28;01melse\u001b[39;00m []\n\u001b[0;32m    452\u001b[0m )\n\u001b[0;32m    453\u001b[0m output \u001b[38;5;241m=\u001b[39m []\n",
      "File \u001b[1;32mc:\\Users\\josin\\anaconda3\\envs\\journalrater\\Lib\\site-packages\\deepl\\translator.py:188\u001b[0m, in \u001b[0;36mTranslator._raise_for_status\u001b[1;34m(self, status_code, content, json, glossary, downloading_document)\u001b[0m\n\u001b[0;32m    183\u001b[0m     \u001b[38;5;28;01mraise\u001b[39;00m AuthorizationException(\n\u001b[0;32m    184\u001b[0m         \u001b[38;5;124mf\u001b[39m\u001b[38;5;124m\"\u001b[39m\u001b[38;5;124mAuthorization failure, check auth_key\u001b[39m\u001b[38;5;132;01m{\u001b[39;00mmessage\u001b[38;5;132;01m}\u001b[39;00m\u001b[38;5;124m\"\u001b[39m,\n\u001b[0;32m    185\u001b[0m         http_status_code\u001b[38;5;241m=\u001b[39mstatus_code,\n\u001b[0;32m    186\u001b[0m     )\n\u001b[0;32m    187\u001b[0m \u001b[38;5;28;01melif\u001b[39;00m status_code \u001b[38;5;241m==\u001b[39m \u001b[38;5;28mself\u001b[39m\u001b[38;5;241m.\u001b[39m_HTTP_STATUS_QUOTA_EXCEEDED:\n\u001b[1;32m--> 188\u001b[0m     \u001b[38;5;28;01mraise\u001b[39;00m QuotaExceededException(\n\u001b[0;32m    189\u001b[0m         \u001b[38;5;124mf\u001b[39m\u001b[38;5;124m\"\u001b[39m\u001b[38;5;124mQuota for this billing period has been exceeded\u001b[39m\u001b[38;5;132;01m{\u001b[39;00mmessage\u001b[38;5;132;01m}\u001b[39;00m\u001b[38;5;124m\"\u001b[39m,\n\u001b[0;32m    190\u001b[0m         http_status_code\u001b[38;5;241m=\u001b[39mstatus_code,\n\u001b[0;32m    191\u001b[0m     )\n\u001b[0;32m    192\u001b[0m \u001b[38;5;28;01melif\u001b[39;00m status_code \u001b[38;5;241m==\u001b[39m http\u001b[38;5;241m.\u001b[39mHTTPStatus\u001b[38;5;241m.\u001b[39mNOT_FOUND:\n\u001b[0;32m    193\u001b[0m     \u001b[38;5;28;01mif\u001b[39;00m glossary:\n",
      "\u001b[1;31mQuotaExceededException\u001b[0m: Quota for this billing period has been exceeded, message: Quota Exceeded"
     ]
    }
   ],
   "source": [
    "sentence = transl.translate_to_sp('hello world')"
   ]
  },
  {
   "cell_type": "code",
   "execution_count": null,
   "metadata": {},
   "outputs": [
    {
     "name": "stdout",
     "output_type": "stream",
     "text": [
      "hola mundo\n"
     ]
    }
   ],
   "source": [
    "print(sentence)"
   ]
  },
  {
   "cell_type": "markdown",
   "metadata": {},
   "source": [
    "## countries list order"
   ]
  },
  {
   "cell_type": "code",
   "execution_count": null,
   "metadata": {},
   "outputs": [],
   "source": [
    "countries_list=[\"usa\",\n",
    "                        \"canada\",\n",
    "                        \"italy\",\n",
    "                        \"france\",\n",
    "                        \"denmark\",\n",
    "                        \"austria\",\n",
    "                        \"belgium\",\n",
    "                        \"finland\",\n",
    "                        \"germany\",\n",
    "                        \"greece\",\n",
    "                        \"ireland\",\n",
    "                        \"netherlands\",\n",
    "                        \"norway\",\n",
    "                        \"portugal\",\n",
    "                        \"sweden\",\n",
    "                        \"switzerland\",\n",
    "                        \"uk\",\n",
    "                        \"states\"]"
   ]
  },
  {
   "cell_type": "code",
   "execution_count": null,
   "metadata": {},
   "outputs": [],
   "source": [
    "ordered_list= sorted(countries_list)"
   ]
  },
  {
   "cell_type": "code",
   "execution_count": null,
   "metadata": {},
   "outputs": [
    {
     "data": {
      "text/plain": [
       "['austria',\n",
       " 'belgium',\n",
       " 'canada',\n",
       " 'denmark',\n",
       " 'finland',\n",
       " 'france',\n",
       " 'germany',\n",
       " 'greece',\n",
       " 'ireland',\n",
       " 'italy',\n",
       " 'netherlands',\n",
       " 'norway',\n",
       " 'portugal',\n",
       " 'states',\n",
       " 'sweden',\n",
       " 'switzerland',\n",
       " 'uk',\n",
       " 'usa']"
      ]
     },
     "execution_count": 11,
     "metadata": {},
     "output_type": "execute_result"
    }
   ],
   "source": [
    "ordered_list"
   ]
  },
  {
   "cell_type": "markdown",
   "metadata": {},
   "source": [
    "## parameters dates"
   ]
  },
  {
   "cell_type": "code",
   "execution_count": null,
   "metadata": {},
   "outputs": [],
   "source": [
    "from parameters import Parameters"
   ]
  },
  {
   "cell_type": "code",
   "execution_count": null,
   "metadata": {},
   "outputs": [],
   "source": [
    "params = Parameters()"
   ]
  },
  {
   "cell_type": "code",
   "execution_count": null,
   "metadata": {},
   "outputs": [
    {
     "data": {
      "text/plain": [
       "'2024/03/01'"
      ]
     },
     "execution_count": 14,
     "metadata": {},
     "output_type": "execute_result"
    }
   ],
   "source": [
    "params.start_date_str"
   ]
  },
  {
   "cell_type": "markdown",
   "metadata": {},
   "source": [
    "## write json"
   ]
  },
  {
   "cell_type": "code",
   "execution_count": null,
   "metadata": {},
   "outputs": [],
   "source": [
    "threshold = cfg_item('threshold')"
   ]
  },
  {
   "cell_type": "code",
   "execution_count": null,
   "metadata": {},
   "outputs": [
    {
     "data": {
      "text/plain": [
       "2"
      ]
     },
     "execution_count": 17,
     "metadata": {},
     "output_type": "execute_result"
    }
   ],
   "source": [
    "threshold"
   ]
  },
  {
   "cell_type": "markdown",
   "metadata": {},
   "source": [
    "## insert paragraph jumps in abstratct"
   ]
  },
  {
   "cell_type": "code",
   "execution_count": null,
   "metadata": {},
   "outputs": [
    {
     "name": "stdout",
     "output_type": "stream",
     "text": [
      "\n",
      "\n",
      "INTRODUCCIÓN: Los datos sobre la práctica clínica real y los resultados de los pacientes con hipertensión arterial pulmonar asociada a enfermedad del tejido conectivo (HAP-TCP) son escasos. Los estudios OPUS/OrPHeUS incluyeron a pacientes que empezaban a recibir macitentan, incluidos los que padecían HAP-CTD. Este análisis describe las características de los pacientes, los patrones de tratamiento, los resultados y los perfiles de seguridad de los pacientes con CTD-PAH que iniciaron macitentan por primera vez en los EE.UU. utilizando el conjunto de datos combinados OPUS/OrPHeUS. MÉTODOS: OPUS fue un registro de fármacos prospectivo, multicéntrico, observacional y a largo plazo de EE. UU. (abril de 2014-junio de 2020). OrPHeUS fue una revisión de historias clínicas retrospectiva, multicéntrica, estadounidense (octubre de 2013-marzo de 2017). Las características, los patrones de tratamiento, la seguridad y los resultados durante el tratamiento con macitentan de pacientes con CTD-PAH y sus subgrupos esclerosis sistémica (SSc-PAH), lupus eritematoso sistémico (SLE-PAH) y CTD mixto (MCTD-PAH) se compararon descriptivamente con pacientes con HAP idiopática/heritable (I/HPAH). RESULTADOS: La población OPUS/OrPHeUS combinada incluyó 2.498 pacientes con HAP-I/HAP y 1.192 pacientes con HAP-CT (708 HAP-Sc; 159 HAP-LS; 124 HAP-MTC y 201 HAP-CT de otras etiologías). Al inicio del tratamiento con macitentan en los pacientes con HAP-I y HAP-TC, respectivamente: El 61,2 y el 69,3% se encontraban en clase funcional III/IV de la Organización Mundial de la Salud (OMS); la mediana de la distancia caminada en 6 minutos fue de 289 y 279 m; y el 58,1 y el 65,2% recibieron macitentan como tratamiento combinado. Durante el seguimiento, para los pacientes con I/HPAH y CTD-PAH, respectivamente: la mediana de la duración de la exposición a macitentan observada fue de 14,0 y 15,8 meses; el 79,0 y el 83.Las estimaciones de Kaplan-Meier (límites de confianza [LC] del 95%) de pacientes libres de hospitalización por cualquier causa al año fueron del 60,3% (58,1, 62,4) y del 59,3% (56,1, 62,3); y las estimaciones de Kaplan-Meier (LC del 95%) de supervivencia al año fueron del 90,5% (89,1, 91,7) y del 90,6% (88,6, 92,3). CONCLUSIONES: El macitentan se utilizó en la práctica clínica en pacientes con CTD-PAH y sus subgrupos, incluso como terapia combinada. El perfil de seguridad y tolerabilidad de macitentan en pacientes con CTD-PAH fue comparable al de los pacientes con I/HPAH. REGISTRO DEL ENSAYO: Registro de Usuarios de OPsumit® (OPUS): NCT02126943; cohorte de usuarios históricos de Opsumit® (OrPHeUS): NCT03197688; www. CLINICALTRIALS: gov Resumen gráfico disponible para este artículo.\n",
      "\n"
     ]
    }
   ],
   "source": [
    "import re\n",
    "\n",
    "def insert_paragraph_jumps(text):\n",
    "    paragraphs = text.split('\\n\\n')  # Split text into paragraphs\n",
    "    new_paragraphs = []\n",
    "    \n",
    "    for paragraph in paragraphs:\n",
    "        lines = paragraph.split('\\n')  # Split paragraph into lines\n",
    "        new_lines = []\n",
    "        \n",
    "        for line in lines:\n",
    "            # Using regular expression to find words in uppercase followed by a colon\n",
    "            if re.search(r'\\b[A-Z]+\\:', line):\n",
    "                new_lines.append('\\n' + line)  # Insert paragraph jump before the line containing the pattern\n",
    "            else:\n",
    "                new_lines.append(line)\n",
    "        \n",
    "        new_paragraphs.append('\\n'.join(new_lines))  # Join lines back to form paragraph\n",
    "    \n",
    "    return '\\n\\n'.join(new_paragraphs)  # Join paragraphs back to form text\n",
    "\n",
    "# Example usage:\n",
    "text = \"\"\"\n",
    "INTRODUCCIÓN: Los datos sobre la práctica clínica real y los resultados de los pacientes con hipertensión arterial pulmonar asociada a enfermedad del tejido conectivo (HAP-TCP) son escasos. Los estudios OPUS/OrPHeUS incluyeron a pacientes que empezaban a recibir macitentan, incluidos los que padecían HAP-CTD. Este análisis describe las características de los pacientes, los patrones de tratamiento, los resultados y los perfiles de seguridad de los pacientes con CTD-PAH que iniciaron macitentan por primera vez en los EE.UU. utilizando el conjunto de datos combinados OPUS/OrPHeUS. MÉTODOS: OPUS fue un registro de fármacos prospectivo, multicéntrico, observacional y a largo plazo de EE. UU. (abril de 2014-junio de 2020). OrPHeUS fue una revisión de historias clínicas retrospectiva, multicéntrica, estadounidense (octubre de 2013-marzo de 2017). Las características, los patrones de tratamiento, la seguridad y los resultados durante el tratamiento con macitentan de pacientes con CTD-PAH y sus subgrupos esclerosis sistémica (SSc-PAH), lupus eritematoso sistémico (SLE-PAH) y CTD mixto (MCTD-PAH) se compararon descriptivamente con pacientes con HAP idiopática/heritable (I/HPAH). RESULTADOS: La población OPUS/OrPHeUS combinada incluyó 2.498 pacientes con HAP-I/HAP y 1.192 pacientes con HAP-CT (708 HAP-Sc; 159 HAP-LS; 124 HAP-MTC y 201 HAP-CT de otras etiologías). Al inicio del tratamiento con macitentan en los pacientes con HAP-I y HAP-TC, respectivamente: El 61,2 y el 69,3% se encontraban en clase funcional III/IV de la Organización Mundial de la Salud (OMS); la mediana de la distancia caminada en 6 minutos fue de 289 y 279 m; y el 58,1 y el 65,2% recibieron macitentan como tratamiento combinado. Durante el seguimiento, para los pacientes con I/HPAH y CTD-PAH, respectivamente: la mediana de la duración de la exposición a macitentan observada fue de 14,0 y 15,8 meses; el 79,0 y el 83.Las estimaciones de Kaplan-Meier (límites de confianza [LC] del 95%) de pacientes libres de hospitalización por cualquier causa al año fueron del 60,3% (58,1, 62,4) y del 59,3% (56,1, 62,3); y las estimaciones de Kaplan-Meier (LC del 95%) de supervivencia al año fueron del 90,5% (89,1, 91,7) y del 90,6% (88,6, 92,3). CONCLUSIONES: El macitentan se utilizó en la práctica clínica en pacientes con CTD-PAH y sus subgrupos, incluso como terapia combinada. El perfil de seguridad y tolerabilidad de macitentan en pacientes con CTD-PAH fue comparable al de los pacientes con I/HPAH. REGISTRO DEL ENSAYO: Registro de Usuarios de OPsumit® (OPUS): NCT02126943; cohorte de usuarios históricos de Opsumit® (OrPHeUS): NCT03197688; www. CLINICALTRIALS: gov Resumen gráfico disponible para este artículo.\n",
    "\"\"\"\n",
    "\n",
    "modified_text = insert_paragraph_jumps(text)\n",
    "print(modified_text)"
   ]
  },
  {
   "cell_type": "code",
   "execution_count": null,
   "metadata": {},
   "outputs": [],
   "source": [
    "abstract = 'INTRODUCCIÓN: Los datos sobre la práctica clínica real y los resultados de los pacientes con hipertensión arterial pulmonar asociada a enfermedad del tejido conectivo (HAP-TCP) son escasos. Los estudios OPUS/OrPHeUS incluyeron a pacientes que empezaban a recibir macitentan, incluidos los que padecían HAP-CTD. Este análisis describe las características de los pacientes, los patrones de tratamiento, los resultados y los perfiles de seguridad de los pacientes con CTD-PAH que iniciaron macitentan por primera vez en los EE.UU. utilizando el conjunto de datos combinados OPUS/OrPHeUS. \\\n",
    "    MÉTODOS: OPUS fue un registro de fármacos prospectivo, multicéntrico, observacional y a largo plazo de EE. UU. (abril de 2014-junio de 2020). OrPHeUS fue una revisión de historias clínicas retrospectiva, multicéntrica, estadounidense (octubre de 2013-marzo de 2017). Las características, los patrones de tratamiento, la seguridad y los resultados durante el tratamiento con macitentan de pacientes con CTD-PAH y sus subgrupos esclerosis sistémica (SSc-PAH), lupus eritematoso sistémico (SLE-PAH) y CTD mixto (MCTD-PAH) se compararon descriptivamente con pacientes con HAP idiopática/heritable (I/HPAH). \\\n",
    "        RESULTADOS: La población OPUS/OrPHeUS combinada incluyó 2.498 pacientes con HAP-I/HAP y 1.192 pacientes con HAP-CT (708 HAP-Sc; 159 HAP-LS; 124 HAP-MTC y 201 HAP-CT de otras etiologías). Al inicio del tratamiento con macitentan en los pacientes con HAP-I y HAP-TC, respectivamente: El 61,2 y el 69,3% se encontraban en clase funcional III/IV de la Organización Mundial de la Salud (OMS); la mediana de la distancia caminada en 6 minutos fue de 289 y 279 m; y el 58,1 y el 65,2% recibieron macitentan como tratamiento combinado. Durante el seguimiento, para los pacientes con I/HPAH y CTD-PAH, respectivamente: la mediana de la duración de la exposición a macitentan observada fue de 14,0 y 15,8 meses; el 79,0 y el 83.Las estimaciones de Kaplan-Meier (límites de confianza [LC] del 95%) de pacientes libres de hospitalización por cualquier causa al año fueron del 60,3% (58,1, 62,4) y del 59,3% (56,1, 62,3); y las estimaciones de Kaplan-Meier (LC del 95%) de supervivencia al año fueron del 90,5% (89,1, 91,7) y del 90,6% (88,6, 92,3). \\\n",
    "    CONCLUSIONES: El macitentan se utilizó en la práctica clínica en pacientes con CTD-PAH y sus subgrupos, incluso como terapia combinada. El perfil de seguridad y tolerabilidad de macitentan en pacientes con CTD-PAH fue comparable al de los pacientes con I/HPAH. \\\n",
    "    REGISTRO DEL ENSAYO: Registro de Usuarios de OPsumit® (OPUS): NCT02126943; cohorte de usuarios históricos de Opsumit® (OrPHeUS): NCT03197688; www.CLINICALTRIALS.gov Resumen gráfico disponible para este artículo.'"
   ]
  },
  {
   "cell_type": "code",
   "execution_count": null,
   "metadata": {},
   "outputs": [],
   "source": [
    "pattern = r'\\b([A-ZÁÉÍÓÚÜÑ\\s]+\\:)'\n",
    "# pattern = r\"\\s(?=[A-Z])\""
   ]
  },
  {
   "cell_type": "code",
   "execution_count": null,
   "metadata": {},
   "outputs": [
    {
     "data": {
      "text/plain": [
       "<re.Match object; span=(0, 13), match='INTRODUCCIÓN:'>"
      ]
     },
     "execution_count": 114,
     "metadata": {},
     "output_type": "execute_result"
    }
   ],
   "source": [
    "re.search(pattern, abstract)"
   ]
  },
  {
   "cell_type": "code",
   "execution_count": null,
   "metadata": {},
   "outputs": [
    {
     "data": {
      "text/plain": [
       "['INTRODUCCIÓN:',\n",
       " 'MÉTODOS:',\n",
       " 'RESULTADOS:',\n",
       " 'CONCLUSIONES:',\n",
       " 'REGISTRO DEL ENSAYO:']"
      ]
     },
     "execution_count": 115,
     "metadata": {},
     "output_type": "execute_result"
    }
   ],
   "source": [
    "re.findall(pattern, abstract)"
   ]
  },
  {
   "cell_type": "code",
   "execution_count": null,
   "metadata": {},
   "outputs": [],
   "source": [
    "splitted_text = re.split(pattern, abstract)"
   ]
  },
  {
   "cell_type": "code",
   "execution_count": null,
   "metadata": {},
   "outputs": [
    {
     "data": {
      "text/plain": [
       "['',\n",
       " 'INTRODUCCIÓN:',\n",
       " ' Los datos sobre la práctica clínica real y los resultados de los pacientes con hipertensión arterial pulmonar asociada a enfermedad del tejido conectivo (HAP-TCP) son escasos. Los estudios OPUS/OrPHeUS incluyeron a pacientes que empezaban a recibir macitentan, incluidos los que padecían HAP-CTD. Este análisis describe las características de los pacientes, los patrones de tratamiento, los resultados y los perfiles de seguridad de los pacientes con CTD-PAH que iniciaron macitentan por primera vez en los EE.UU. utilizando el conjunto de datos combinados OPUS/OrPHeUS.     ',\n",
       " 'MÉTODOS:',\n",
       " ' OPUS fue un registro de fármacos prospectivo, multicéntrico, observacional y a largo plazo de EE. UU. (abril de 2014-junio de 2020). OrPHeUS fue una revisión de historias clínicas retrospectiva, multicéntrica, estadounidense (octubre de 2013-marzo de 2017). Las características, los patrones de tratamiento, la seguridad y los resultados durante el tratamiento con macitentan de pacientes con CTD-PAH y sus subgrupos esclerosis sistémica (SSc-PAH), lupus eritematoso sistémico (SLE-PAH) y CTD mixto (MCTD-PAH) se compararon descriptivamente con pacientes con HAP idiopática/heritable (I/HPAH).         ',\n",
       " 'RESULTADOS:',\n",
       " ' La población OPUS/OrPHeUS combinada incluyó 2.498 pacientes con HAP-I/HAP y 1.192 pacientes con HAP-CT (708 HAP-Sc; 159 HAP-LS; 124 HAP-MTC y 201 HAP-CT de otras etiologías). Al inicio del tratamiento con macitentan en los pacientes con HAP-I y HAP-TC, respectivamente: El 61,2 y el 69,3% se encontraban en clase funcional III/IV de la Organización Mundial de la Salud (OMS); la mediana de la distancia caminada en 6 minutos fue de 289 y 279 m; y el 58,1 y el 65,2% recibieron macitentan como tratamiento combinado. Durante el seguimiento, para los pacientes con I/HPAH y CTD-PAH, respectivamente: la mediana de la duración de la exposición a macitentan observada fue de 14,0 y 15,8 meses; el 79,0 y el 83.Las estimaciones de Kaplan-Meier (límites de confianza [LC] del 95%) de pacientes libres de hospitalización por cualquier causa al año fueron del 60,3% (58,1, 62,4) y del 59,3% (56,1, 62,3); y las estimaciones de Kaplan-Meier (LC del 95%) de supervivencia al año fueron del 90,5% (89,1, 91,7) y del 90,6% (88,6, 92,3).     ',\n",
       " 'CONCLUSIONES:',\n",
       " ' El macitentan se utilizó en la práctica clínica en pacientes con CTD-PAH y sus subgrupos, incluso como terapia combinada. El perfil de seguridad y tolerabilidad de macitentan en pacientes con CTD-PAH fue comparable al de los pacientes con I/HPAH.     ',\n",
       " 'REGISTRO DEL ENSAYO:',\n",
       " ' Registro de Usuarios de OPsumit® (OPUS): NCT02126943; cohorte de usuarios históricos de Opsumit® (OrPHeUS): NCT03197688; www.CLINICALTRIALS.gov Resumen gráfico disponible para este artículo.']"
      ]
     },
     "execution_count": 117,
     "metadata": {},
     "output_type": "execute_result"
    }
   ],
   "source": [
    "splitted_text"
   ]
  },
  {
   "cell_type": "code",
   "execution_count": null,
   "metadata": {},
   "outputs": [],
   "source": [
    "text = \"\\n\".join(splitted_text)"
   ]
  },
  {
   "cell_type": "code",
   "execution_count": null,
   "metadata": {},
   "outputs": [
    {
     "name": "stdout",
     "output_type": "stream",
     "text": [
      "\n",
      "INTRODUCCIÓN:\n",
      " Los datos sobre la práctica clínica real y los resultados de los pacientes con hipertensión arterial pulmonar asociada a enfermedad del tejido conectivo (HAP-TCP) son escasos. Los estudios OPUS/OrPHeUS incluyeron a pacientes que empezaban a recibir macitentan, incluidos los que padecían HAP-CTD. Este análisis describe las características de los pacientes, los patrones de tratamiento, los resultados y los perfiles de seguridad de los pacientes con CTD-PAH que iniciaron macitentan por primera vez en los EE.UU. utilizando el conjunto de datos combinados OPUS/OrPHeUS.     \n",
      "MÉTODOS:\n",
      " OPUS fue un registro de fármacos prospectivo, multicéntrico, observacional y a largo plazo de EE. UU. (abril de 2014-junio de 2020). OrPHeUS fue una revisión de historias clínicas retrospectiva, multicéntrica, estadounidense (octubre de 2013-marzo de 2017). Las características, los patrones de tratamiento, la seguridad y los resultados durante el tratamiento con macitentan de pacientes con CTD-PAH y sus subgrupos esclerosis sistémica (SSc-PAH), lupus eritematoso sistémico (SLE-PAH) y CTD mixto (MCTD-PAH) se compararon descriptivamente con pacientes con HAP idiopática/heritable (I/HPAH).         \n",
      "RESULTADOS:\n",
      " La población OPUS/OrPHeUS combinada incluyó 2.498 pacientes con HAP-I/HAP y 1.192 pacientes con HAP-CT (708 HAP-Sc; 159 HAP-LS; 124 HAP-MTC y 201 HAP-CT de otras etiologías). Al inicio del tratamiento con macitentan en los pacientes con HAP-I y HAP-TC, respectivamente: El 61,2 y el 69,3% se encontraban en clase funcional III/IV de la Organización Mundial de la Salud (OMS); la mediana de la distancia caminada en 6 minutos fue de 289 y 279 m; y el 58,1 y el 65,2% recibieron macitentan como tratamiento combinado. Durante el seguimiento, para los pacientes con I/HPAH y CTD-PAH, respectivamente: la mediana de la duración de la exposición a macitentan observada fue de 14,0 y 15,8 meses; el 79,0 y el 83.Las estimaciones de Kaplan-Meier (límites de confianza [LC] del 95%) de pacientes libres de hospitalización por cualquier causa al año fueron del 60,3% (58,1, 62,4) y del 59,3% (56,1, 62,3); y las estimaciones de Kaplan-Meier (LC del 95%) de supervivencia al año fueron del 90,5% (89,1, 91,7) y del 90,6% (88,6, 92,3).     \n",
      "CONCLUSIONES:\n",
      " El macitentan se utilizó en la práctica clínica en pacientes con CTD-PAH y sus subgrupos, incluso como terapia combinada. El perfil de seguridad y tolerabilidad de macitentan en pacientes con CTD-PAH fue comparable al de los pacientes con I/HPAH.     \n",
      "REGISTRO DEL ENSAYO:\n",
      " Registro de Usuarios de OPsumit® (OPUS): NCT02126943; cohorte de usuarios históricos de Opsumit® (OrPHeUS): NCT03197688; www.CLINICALTRIALS.gov Resumen gráfico disponible para este artículo.\n"
     ]
    }
   ],
   "source": [
    "print(text)"
   ]
  },
  {
   "cell_type": "code",
   "execution_count": null,
   "metadata": {},
   "outputs": [],
   "source": [
    "def split_paragraphs(abst):\n",
    "    pattern = r'\\b([A-ZÁÉÍÓÚÜÑ\\s]+\\:)'\n",
    "    splitted = re.split(pattern, abst)\n",
    "    return '\\n'.join(splitted)\n"
   ]
  },
  {
   "cell_type": "code",
   "execution_count": null,
   "metadata": {},
   "outputs": [
    {
     "name": "stdout",
     "output_type": "stream",
     "text": [
      "\n",
      "INTRODUCCIÓN:\n",
      " Los datos sobre la práctica clínica real y los resultados de los pacientes con hipertensión arterial pulmonar asociada a enfermedad del tejido conectivo (HAP-TCP) son escasos. Los estudios OPUS/OrPHeUS incluyeron a pacientes que empezaban a recibir macitentan, incluidos los que padecían HAP-CTD. Este análisis describe las características de los pacientes, los patrones de tratamiento, los resultados y los perfiles de seguridad de los pacientes con CTD-PAH que iniciaron macitentan por primera vez en los EE.UU. utilizando el conjunto de datos combinados OPUS/OrPHeUS.     \n",
      "MÉTODOS:\n",
      " OPUS fue un registro de fármacos prospectivo, multicéntrico, observacional y a largo plazo de EE. UU. (abril de 2014-junio de 2020). OrPHeUS fue una revisión de historias clínicas retrospectiva, multicéntrica, estadounidense (octubre de 2013-marzo de 2017). Las características, los patrones de tratamiento, la seguridad y los resultados durante el tratamiento con macitentan de pacientes con CTD-PAH y sus subgrupos esclerosis sistémica (SSc-PAH), lupus eritematoso sistémico (SLE-PAH) y CTD mixto (MCTD-PAH) se compararon descriptivamente con pacientes con HAP idiopática/heritable (I/HPAH).         \n",
      "RESULTADOS:\n",
      " La población OPUS/OrPHeUS combinada incluyó 2.498 pacientes con HAP-I/HAP y 1.192 pacientes con HAP-CT (708 HAP-Sc; 159 HAP-LS; 124 HAP-MTC y 201 HAP-CT de otras etiologías). Al inicio del tratamiento con macitentan en los pacientes con HAP-I y HAP-TC, respectivamente: El 61,2 y el 69,3% se encontraban en clase funcional III/IV de la Organización Mundial de la Salud (OMS); la mediana de la distancia caminada en 6 minutos fue de 289 y 279 m; y el 58,1 y el 65,2% recibieron macitentan como tratamiento combinado. Durante el seguimiento, para los pacientes con I/HPAH y CTD-PAH, respectivamente: la mediana de la duración de la exposición a macitentan observada fue de 14,0 y 15,8 meses; el 79,0 y el 83.Las estimaciones de Kaplan-Meier (límites de confianza [LC] del 95%) de pacientes libres de hospitalización por cualquier causa al año fueron del 60,3% (58,1, 62,4) y del 59,3% (56,1, 62,3); y las estimaciones de Kaplan-Meier (LC del 95%) de supervivencia al año fueron del 90,5% (89,1, 91,7) y del 90,6% (88,6, 92,3).     \n",
      "CONCLUSIONES:\n",
      " El macitentan se utilizó en la práctica clínica en pacientes con CTD-PAH y sus subgrupos, incluso como terapia combinada. El perfil de seguridad y tolerabilidad de macitentan en pacientes con CTD-PAH fue comparable al de los pacientes con I/HPAH.     \n",
      "REGISTRO DEL ENSAYO:\n",
      " Registro de Usuarios de OPsumit® (OPUS): NCT02126943; cohorte de usuarios históricos de Opsumit® (OrPHeUS): NCT03197688; www.CLINICALTRIALS.gov Resumen gráfico disponible para este artículo.\n"
     ]
    }
   ],
   "source": [
    "print(split_paragraphs(abstract))"
   ]
  },
  {
   "cell_type": "code",
   "execution_count": null,
   "metadata": {},
   "outputs": [],
   "source": [
    "abstract2 = 'ANTECEDENTES: La estratificación del riesgo es la piedra angular del tratamiento de la hipertensión arterial pulmonar (HAP). Las directrices actuales de la ESC/ERS recomiendan utilizar el modelo de riesgo COMPERA de 3 estratos al inicio y el modelo COMPERA 2.0 de 4 estratos durante el seguimiento. Sin embargo, las directrices no tienen en cuenta otras puntuaciones de riesgo disponibles, como REVEAL Lite 2. PREGUNTA DE INVESTIGACIÓN: ¿Es REVEAL Lite 2 mejor para discriminar el riesgo que los modelos de evaluación del riesgo COMPERA en las evaluaciones basales o de seguimiento? DISEÑO Y MÉTODOS DEL ESTUDIO: Analizamos los datos de los pacientes con HAP inscritos consecutivamente entre el periodo de junio de 2011 a febrero de 2022 en el registro de HAP de nuestro Centro experto en Hipertensión Pulmonar. Los pacientes fueron estratificados de acuerdo con las puntuaciones de riesgo REVEAL Lite 2, COMPERA 3-, y 4 estratos al inicio y en el seguimiento para predecir el resultado compuesto para el trasplante de pulmón o la muerte. Se trazaron curvas ROC para predecir el resultado binario a los 3, 5 y 7 años. Las áreas bajo la curva (AUC) de las puntuaciones se compararon mediante la prueba de ji cuadrado. El rendimiento de las puntuaciones se determinó mediante el estadístico C de Harrel. RESULTADOS: Se incluyeron 296 pacientes para la evaluación inicial y 196 para el seguimiento. La supervivencia global libre de trasplante en nuestra población de pacientes a 1, 3, 5 y 7 años fue del 93,6%, 81,3%, 75,1% y 68,8% respectivamente. Al inicio del estudio, el estadístico C de REVEAL Lite 2 fue de 0,74 (0,69, 0,80), en comparación con el 0,68 (0,63, 0,74) del modelo COMPERA de 4 estratos y el 0,63 (0,58, 0,69) del modelo COMPERA de 3 estratos. Todas las diferencias en el estadístico C entre REVEAL Lite 2 y los demás modelos fueron estadísticamente significativas al inicio del estudio. INTERPRETACIÓN: Nuestro análisis mostró que REVEAL Lite 2 era mejor al inicio para discriminar el riesgo en nuestra población de pacientes. Las directrices futuras deberían considerar la inclusión de REVEAL Lite 2 en el algoritmo de tratamiento para ayudar a los médicos a tomar decisiones informadas. Otros análisis en cohortes más amplias podrían ayudar a validar estos hallazgos.'"
   ]
  },
  {
   "cell_type": "code",
   "execution_count": null,
   "metadata": {},
   "outputs": [
    {
     "name": "stdout",
     "output_type": "stream",
     "text": [
      "\n",
      "ANTECEDENTES:\n",
      " La estratificación del riesgo es la piedra angular del tratamiento de la hipertensión arterial pulmonar (HAP). Las directrices actuales de la ESC/ERS recomiendan utilizar el modelo de riesgo COMPERA de 3 estratos al inicio y el modelo COMPERA 2.0 de 4 estratos durante el seguimiento. Sin embargo, las directrices no tienen en cuenta otras puntuaciones de riesgo disponibles, como REVEAL Lite 2. \n",
      "PREGUNTA DE INVESTIGACIÓN:\n",
      " ¿Es REVEAL Lite 2 mejor para discriminar el riesgo que los modelos de evaluación del riesgo COMPERA en las evaluaciones basales o de seguimiento? \n",
      "DISEÑO Y MÉTODOS DEL ESTUDIO:\n",
      " Analizamos los datos de los pacientes con HAP inscritos consecutivamente entre el periodo de junio de 2011 a febrero de 2022 en el registro de HAP de nuestro Centro experto en Hipertensión Pulmonar. Los pacientes fueron estratificados de acuerdo con las puntuaciones de riesgo REVEAL Lite 2, COMPERA 3-, y 4 estratos al inicio y en el seguimiento para predecir el resultado compuesto para el trasplante de pulmón o la muerte. Se trazaron curvas ROC para predecir el resultado binario a los 3, 5 y 7 años. Las áreas bajo la curva (AUC) de las puntuaciones se compararon mediante la prueba de ji cuadrado. El rendimiento de las puntuaciones se determinó mediante el estadístico C de Harrel. \n",
      "RESULTADOS:\n",
      " Se incluyeron 296 pacientes para la evaluación inicial y 196 para el seguimiento. La supervivencia global libre de trasplante en nuestra población de pacientes a 1, 3, 5 y 7 años fue del 93,6%, 81,3%, 75,1% y 68,8% respectivamente. Al inicio del estudio, el estadístico C de REVEAL Lite 2 fue de 0,74 (0,69, 0,80), en comparación con el 0,68 (0,63, 0,74) del modelo COMPERA de 4 estratos y el 0,63 (0,58, 0,69) del modelo COMPERA de 3 estratos. Todas las diferencias en el estadístico C entre REVEAL Lite 2 y los demás modelos fueron estadísticamente significativas al inicio del estudio. \n",
      "INTERPRETACIÓN:\n",
      " Nuestro análisis mostró que REVEAL Lite 2 era mejor al inicio para discriminar el riesgo en nuestra población de pacientes. Las directrices futuras deberían considerar la inclusión de REVEAL Lite 2 en el algoritmo de tratamiento para ayudar a los médicos a tomar decisiones informadas. Otros análisis en cohortes más amplias podrían ayudar a validar estos hallazgos.\n"
     ]
    }
   ],
   "source": [
    "print(split_paragraphs(abstract2))"
   ]
  },
  {
   "cell_type": "markdown",
   "metadata": {},
   "source": [
    "modify the config json using streamlit"
   ]
  },
  {
   "cell_type": "code",
   "execution_count": null,
   "metadata": {},
   "outputs": [
    {
     "name": "stdout",
     "output_type": "stream",
     "text": [
      "selection parameters:  4\n"
     ]
    },
    {
     "data": {
      "text/plain": [
       "' # Allow users to modify the configuration values individually\\nfor key, value in config_data.items():\\n    new_value = input(f\"Enter value for \\'{key}\\':\", value=value)\\n    config_data[key] = new_value\\n\\n# Save the modified configuration back to the JSON file\\nsave_json_file(config_data, file_path) '"
      ]
     },
     "execution_count": 146,
     "metadata": {},
     "output_type": "execute_result"
    }
   ],
   "source": [
    "import json\n",
    "\n",
    "# Function to load JSON file\n",
    "def load_json_file(file_path):\n",
    "    with open(file_path, 'r') as f:\n",
    "        data = json.load(f)\n",
    "    return data\n",
    "\n",
    "# Function to save JSON file\n",
    "def save_json_file(data, file_path):\n",
    "    with open(file_path, 'w') as f:\n",
    "        json.dump(data, f, indent=4)\n",
    "\n",
    "# Path to the JSON file\n",
    "file_path = 'resources/config/config.json'\n",
    "\n",
    "# Load the JSON file\n",
    "config_data = load_json_file(file_path)\n",
    "\n",
    "print('selection parameters: ', config_data['selection_parameters']['query_in_title'])\n",
    "\n",
    "\"\"\" # Allow users to modify the configuration values individually\n",
    "for key, value in config_data.items():\n",
    "    new_value = input(f\"Enter value for '{key}':\", value=value)\n",
    "    config_data[key] = new_value\n",
    "\n",
    "# Save the modified configuration back to the JSON file\n",
    "save_json_file(config_data, file_path) \"\"\""
   ]
  },
  {
   "cell_type": "code",
   "execution_count": null,
   "metadata": {},
   "outputs": [],
   "source": [
    "dic = {'cualqueir_cosa': 3}"
   ]
  },
  {
   "cell_type": "markdown",
   "metadata": {},
   "source": [
    "## split search terms"
   ]
  },
  {
   "cell_type": "code",
   "execution_count": null,
   "metadata": {},
   "outputs": [],
   "source": [
    "search_terms = [\"(Congenital heart disease) AND (pulmonary hypertension)\",\n",
    "\"(Cardiopulmonary exercise test) AND (pulmonary hypertension)\",\n",
    "\"(Systemic sclerosis) AND (pulmonary hypertension)\",\n",
    "\"(Connective tissue disease) AND (pulmonary hypertension)\",\n",
    "\"pulmonary hypertension\",\n",
    "\"pediatric pulmonary hypertension\",\n",
    "\"pulmonary arterial hypertension\",\n",
    "\"macitentan\",\n",
    "\"selexipag\",\n",
    "\"ambrisenta\",\n",
    "\"bosentan\",\n",
    "\"sotatercept\",\n",
    "\"riociguat\",\n",
    "\"(portopulmonary hypertension) AND (pulmonary hypertension)\",\n",
    "\"(echocardiography) AND (pulmonary hypertension)\",\n",
    "\"CPET AND (pulmonary hypertension)\"]"
   ]
  },
  {
   "cell_type": "code",
   "execution_count": null,
   "metadata": {},
   "outputs": [
    {
     "data": {
      "text/plain": [
       "['(Congenital heart disease) AND (pulmonary hypertension)',\n",
       " '(Cardiopulmonary exercise test) AND (pulmonary hypertension)',\n",
       " '(Systemic sclerosis) AND (pulmonary hypertension)',\n",
       " '(Connective tissue disease) AND (pulmonary hypertension)',\n",
       " 'pulmonary hypertension',\n",
       " 'pediatric pulmonary hypertension',\n",
       " 'pulmonary arterial hypertension',\n",
       " 'selexipag',\n",
       " 'ambrisenta',\n",
       " 'bosentan',\n",
       " 'sotatercept',\n",
       " 'riociguat',\n",
       " '(portopulmonary hypertension) AND (pulmonary hypertension)',\n",
       " '(echocardiography) AND (pulmonary hypertension)',\n",
       " 'CPET AND (pulmonary hypertension)',\n",
       " 'macitentan',\n",
       " 'banana']"
      ]
     },
     "execution_count": 163,
     "metadata": {},
     "output_type": "execute_result"
    }
   ],
   "source": [
    "search_terms.append('banana')\n",
    "search_terms"
   ]
  },
  {
   "cell_type": "code",
   "execution_count": null,
   "metadata": {},
   "outputs": [
    {
     "data": {
      "text/plain": [
       "['(Congenital heart disease) AND (pulmonary hypertension)',\n",
       " '(Cardiopulmonary exercise test) AND (pulmonary hypertension)',\n",
       " '(Systemic sclerosis) AND (pulmonary hypertension)',\n",
       " '(Connective tissue disease) AND (pulmonary hypertension)',\n",
       " 'pulmonary hypertension',\n",
       " 'pediatric pulmonary hypertension',\n",
       " 'pulmonary arterial hypertension',\n",
       " 'selexipag',\n",
       " 'ambrisenta',\n",
       " 'bosentan',\n",
       " 'sotatercept',\n",
       " 'riociguat',\n",
       " '(portopulmonary hypertension) AND (pulmonary hypertension)',\n",
       " '(echocardiography) AND (pulmonary hypertension)',\n",
       " 'CPET AND (pulmonary hypertension)',\n",
       " 'macitentan']"
      ]
     },
     "execution_count": 165,
     "metadata": {},
     "output_type": "execute_result"
    }
   ],
   "source": [
    "removed_term = 'banana'\n",
    "if removed_term in search_terms:\n",
    "    search_terms.remove('banana')\n",
    "search_terms"
   ]
  },
  {
   "cell_type": "markdown",
   "metadata": {},
   "source": [
    "## problem with list of tuples 'selected'"
   ]
  },
  {
   "cell_type": "code",
   "execution_count": null,
   "metadata": {},
   "outputs": [],
   "source": [
    "from search_pubmed import Search\n",
    "from classify_articles import Classify\n",
    "from metapub import PubMedFetcher"
   ]
  },
  {
   "cell_type": "code",
   "execution_count": null,
   "metadata": {},
   "outputs": [],
   "source": [
    "searcher = Search()\n",
    "classifier = Classify()\n",
    "fetcher = PubMedFetcher()"
   ]
  },
  {
   "cell_type": "code",
   "execution_count": null,
   "metadata": {},
   "outputs": [],
   "source": [
    "pmids_list = [38448281, 38447640, 38450520]\n",
    "query = 'handgrip'"
   ]
  },
  {
   "cell_type": "code",
   "execution_count": null,
   "metadata": {},
   "outputs": [],
   "source": [
    "def fetch_articles(pmids_list, query):\n",
    "        __selected = list()\n",
    "        for pmid in pmids_list:\n",
    "            __article = fetcher.article_by_pmid(str(pmid))\n",
    "            __pass, __score =  classifier.rater(__article, query)\n",
    "            if __pass:\n",
    "                __selected.append((__article, __score))\n",
    "        return __selected"
   ]
  },
  {
   "cell_type": "code",
   "execution_count": null,
   "metadata": {},
   "outputs": [
    {
     "name": "stdout",
     "output_type": "stream",
     "text": [
      "article:  <PubMedArticle 38448281> Duong JT; Pope CE; Hayden HS; Miller C; Salipante SJ; Rowe SM; Solomon GM; Nichols D; Hoffman LR; Narkewicz MR; Green N. Alterations in the fecal microbiota in patients with advanced cystic fibrosis liver disease after 6 months of elexacaftor/tezacaftor/ivacaftor.. J Cyst Fibros. 2024. None:None\n",
      "Article score:  1\n",
      "Threshold:  1\n",
      "Selected:  True\n",
      "article:  <PubMedArticle 38447640> Sahay S; Hernandez NV; Wang F; Wooten M; Nguyen DT; Fauvel C; Benza R; Graviss EA. Comparison between REVEAL Lite 2 and COMPERA 2.0 for risk stratification in Pulmonary Arterial Hypertension.. Chest. 2024. None:None\n",
      "Article score:  1\n",
      "Threshold:  1\n",
      "Selected:  True\n",
      "article:  <PubMedArticle 38450520> Kavgacı A; Kula S; Berber Maraşlı E; Zinnuroğlu M; Çelik B; Terlemez S; Tunaoğlu S; Oğuz D. Evaluation of handgrip strength in children with pulmonary hypertension.. Cardiol Young. 2024. None:1-5\n",
      "Article score:  5\n",
      "Threshold:  1\n",
      "Selected:  True\n"
     ]
    }
   ],
   "source": [
    "selected = fetch_articles(pmids_list, query)"
   ]
  },
  {
   "cell_type": "code",
   "execution_count": null,
   "metadata": {},
   "outputs": [
    {
     "data": {
      "text/plain": [
       "[(<metapub.pubmedarticle.PubMedArticle at 0x1c5a5f5a870>, 1),\n",
       " (<metapub.pubmedarticle.PubMedArticle at 0x1c5a5f19460>, 1),\n",
       " (<metapub.pubmedarticle.PubMedArticle at 0x1c5a5f1b9b0>, 5)]"
      ]
     },
     "execution_count": 201,
     "metadata": {},
     "output_type": "execute_result"
    }
   ],
   "source": [
    "selected"
   ]
  },
  {
   "cell_type": "code",
   "execution_count": null,
   "metadata": {},
   "outputs": [
    {
     "data": {
      "text/plain": [
       "[(<metapub.pubmedarticle.PubMedArticle at 0x1c5a5f1b9b0>, 5),\n",
       " (<metapub.pubmedarticle.PubMedArticle at 0x1c5a5f5a870>, 1),\n",
       " (<metapub.pubmedarticle.PubMedArticle at 0x1c5a5f19460>, 1)]"
      ]
     },
     "execution_count": 205,
     "metadata": {},
     "output_type": "execute_result"
    }
   ],
   "source": [
    "sorted_selected = sorted(selected, key = lambda x:x[1], reverse=True)\n",
    "sorted_selected\n"
   ]
  },
  {
   "cell_type": "markdown",
   "metadata": {},
   "source": [
    "## detect day of the week"
   ]
  },
  {
   "cell_type": "code",
   "execution_count": null,
   "metadata": {},
   "outputs": [],
   "source": [
    "from parameters import Parameters"
   ]
  },
  {
   "cell_type": "code",
   "execution_count": null,
   "metadata": {},
   "outputs": [],
   "source": [
    "__parameters = Parameters()"
   ]
  },
  {
   "cell_type": "code",
   "execution_count": null,
   "metadata": {},
   "outputs": [
    {
     "data": {
      "text/plain": [
       "2"
      ]
     },
     "execution_count": 3,
     "metadata": {},
     "output_type": "execute_result"
    }
   ],
   "source": [
    "__parameters.day_week"
   ]
  },
  {
   "cell_type": "markdown",
   "metadata": {},
   "source": [
    "## save database file"
   ]
  },
  {
   "cell_type": "code",
   "execution_count": null,
   "metadata": {},
   "outputs": [],
   "source": [
    "import pandas as pd\n",
    "import json\n",
    "import os\n",
    "import csv"
   ]
  },
  {
   "cell_type": "code",
   "execution_count": null,
   "metadata": {},
   "outputs": [],
   "source": [
    "database_path = os.path.join(\"resources\", \"saved_searches\", \"2024_03_20.json\")"
   ]
  },
  {
   "cell_type": "code",
   "execution_count": null,
   "metadata": {},
   "outputs": [],
   "source": [
    "with open(database_path, 'r') as f:\n",
    "    data = json.load(f)"
   ]
  },
  {
   "cell_type": "code",
   "execution_count": null,
   "metadata": {},
   "outputs": [
    {
     "data": {
      "text/plain": [
       "{'macitentan': [{'title': 'Interactions Between Integrin α9β1 and VCAM-1 Promote Neutrophil Hyperactivation and Mediate Post-Stroke DVT.',\n",
       "   'authors_str': 'Pandey N; Kaur H; Chorawala MR; Anand SK; Chandaluri L; Butler M; Aishwarya R; Gaddam SJ; Shen X; Alfaidi M; Wang J; Xhang X; Beedupalli K; Bhuiyan MS; Bhuiyan MAN; Buchhanolla P; Rai P; Shah R; Chokhawala H; Jordan D; Magdy T; Orr AW; Stokes KY; Rom O; Dhanesha N',\n",
       "   'doi': '10.1182/bloodadvances.2023012282',\n",
       "   'abstract': 'Venous thromboembolic events are significant contributors to morbidity and mortality in patients with stroke. Neutrophils are among the first cells in the blood to respond to stroke and are known to promote deep vein thrombosis (DVT). Integrin α9 is a transmembrane glycoprotein, highly expressed on neutrophils and stabilizes neutrophil adhesion to activated endothelium via vascular cell adhesion molecule 1 (VCAM-1). Nevertheless, the causative role of neutrophil integrin α9 in post-stroke DVT remains unknown. Here, we found higher neutrophil integrin α9 and plasma VCAM-1 levels in humans and mice with stroke. Using mice with embolic stroke, we observed enhanced DVT severity in a novel model of post-stroke DVT. Neutrophil-specific integrin α9 deficient mice (α9fl/flMrp8Cre+/-) exhibited a significant reduction in post-stroke DVT severity along with decreased neutrophils and citrullinated histone H3 in thrombi. Unbiased transcriptomics indicated that α9/VCAM-1 interactions induced pathways related to neutrophil inflammation, exocytosis, NF-κB signaling, and chemotaxis. Mechanistic studies revealed that integrin α9/VCAM-1 interactions mediate neutrophil adhesion at the venous shear rate, promote neutrophil hyperactivation, increase phosphorylation of extracellular signal-regulated kinase (ERK), and induce endothelial cell apoptosis. Using pharmacogenomic profiling, virtual screening, and in vitro assays, we identified macitentan as a potent inhibitor of integrin α9/VCAM-1 interactions and neutrophil adhesion to activated endothelial cells. Macitentan reduced DVT severity in control mice with and without stroke, but not in α9fl/flMrp8Cre+/- mice, suggesting that macitentan improves DVT outcomes by inhibiting neutrophil integrin α9. Collectively, we uncovered a previously unrecognized and critical pathway involving the α9/VCAM-1 axis in neutrophil hyperactivation and DVT.',\n",
       "   'pmid': '38498701',\n",
       "   'score': 1,\n",
       "   'selected': True},\n",
       "  {'title': 'Comparative adherence of macitentan versus ambrisentan and bosentan in Australian patients with pulmonary arterial hypertension: a retrospective real-world database study.',\n",
       "   'authors_str': 'Lau E; Kotlyar E; Makanji Y; Yu DY; Tan JY; Casorso J; Kouhkamari MH; Lim S; Wu DB; Bloomfield P',\n",
       "   'doi': '10.1080/13696998.2024.2328483',\n",
       "   'abstract': None,\n",
       "   'pmid': '38488130',\n",
       "   'score': 2,\n",
       "   'selected': True}],\n",
       " 'selexipag': [{'title': 'Pulmonary Hypertension: Intensification and Personalization of Combination Rx (PHoenix): A phase IV randomized trial for the evaluation of dose-response and clinical efficacy of riociguat and selexipag using implanted technologies.',\n",
       "   'authors_str': 'Varian F; Dick J; Battersby C; Roman S; Ablott J; Watson L; Binmahfooz S; Zafar H; Colgan G; Cannon J; Suntharalingam J; Lordan J; Howard L; McCabe C; Wort J; Price L; Church C; Hamilton N; Armstrong I; Hameed A; Hurdman J; Elliot C; Condliffe R; Wilkins M; Webb A; Adlam D; Benza RL; Rahimi K; Shojaei-Shahrokhabadi M; Lin NX; Wason JMS; McIntosh A; McConnachie A; Middleton JT; Thompson R; Kiely DG; Toshner M; Rothman A',\n",
       "   'doi': '10.1002/pul2.12337',\n",
       "   'abstract': 'Approved therapies for the treatment of patients with pulmonary arterial hypertension (PAH) mediate pulmonary vascular vasodilatation by targeting distinct biological pathways. International guidelines recommend that patients with an inadequate response to dual therapy with a phosphodiesterase type-5 inhibitor (PDE5i) and endothelin receptor antagonist (ERA), are recommended to either intensify oral therapy by adding a selective prostacyclin receptor (IP) agonist (selexipag), or switching from PDE5i to a soluble guanylate-cyclase stimulator (sGCS; riociguat). The clinical equipoise between these therapeutic choices provides the opportunity for evaluation of individualized therapeutic effects. Traditionally, invasive/hospital-based investigations are required to comprehensively assess disease severity and demonstrate treatment benefits. Regulatory-approved, minimally invasive monitors enable equivalent measurements to be obtained while patients are at home. In this 2\\u2009×\\u20092 randomized crossover trial, patients with PAH established on guideline-recommended dual therapy and implanted with CardioMEMS™ (a wireless pulmonary artery sensor) and ConfirmRx™ (an insertable cardiac rhythm monitor), will receive ERA + sGCS, or PDEi + ERA\\u2009+\\u2009IP agonist. The study will evaluate clinical efficacy via established clinical investigations and remote monitoring technologies, with remote data relayed through regulatory-approved online clinical portals. The primary aim will be the change in right ventricular systolic volume measured by magnetic resonance imaging (MRI) from baseline to maximal tolerated dose with each therapy. Using data from MRI and other outcomes, including hemodynamics, physical activity, physiological measurements, quality of life, and side effect reporting, we will determine whether remote technology facilitates early evaluation of clinical efficacy, and investigate intra-patient efficacy of the two treatment approaches.',\n",
       "   'pmid': '38500737',\n",
       "   'score': 3,\n",
       "   'selected': True}],\n",
       " 'ambrisentan': [{'title': 'Comparative adherence of macitentan versus ambrisentan and bosentan in Australian patients with pulmonary arterial hypertension: a retrospective real-world database study.',\n",
       "   'authors_str': 'Lau E; Kotlyar E; Makanji Y; Yu DY; Tan JY; Casorso J; Kouhkamari MH; Lim S; Wu DB; Bloomfield P',\n",
       "   'doi': '10.1080/13696998.2024.2328483',\n",
       "   'abstract': None,\n",
       "   'pmid': '38488130',\n",
       "   'score': 2,\n",
       "   'selected': True}]}"
      ]
     },
     "execution_count": 5,
     "metadata": {},
     "output_type": "execute_result"
    }
   ],
   "source": [
    "data"
   ]
  },
  {
   "cell_type": "markdown",
   "metadata": {},
   "source": [
    "#### using pandas"
   ]
  },
  {
   "cell_type": "code",
   "execution_count": null,
   "metadata": {},
   "outputs": [],
   "source": [
    "df0 = pd.DataFrame()\n",
    "n = 0\n",
    "for values in data.values():\n",
    "    for value in values:\n",
    "        df = pd.DataFrame(value, index=[n])\n",
    "        df0 = pd.concat([df0,df])\n",
    "        n += 1"
   ]
  },
  {
   "cell_type": "code",
   "execution_count": null,
   "metadata": {},
   "outputs": [
    {
     "data": {
      "text/html": [
       "<div>\n",
       "<style scoped>\n",
       "    .dataframe tbody tr th:only-of-type {\n",
       "        vertical-align: middle;\n",
       "    }\n",
       "\n",
       "    .dataframe tbody tr th {\n",
       "        vertical-align: top;\n",
       "    }\n",
       "\n",
       "    .dataframe thead th {\n",
       "        text-align: right;\n",
       "    }\n",
       "</style>\n",
       "<table border=\"1\" class=\"dataframe\">\n",
       "  <thead>\n",
       "    <tr style=\"text-align: right;\">\n",
       "      <th></th>\n",
       "      <th>title</th>\n",
       "      <th>authors_str</th>\n",
       "      <th>doi</th>\n",
       "      <th>abstract</th>\n",
       "      <th>pmid</th>\n",
       "      <th>score</th>\n",
       "    </tr>\n",
       "  </thead>\n",
       "  <tbody>\n",
       "    <tr>\n",
       "      <th>0</th>\n",
       "      <td>Comparative adherence of macitentan versus amb...</td>\n",
       "      <td>Lau E; Kotlyar E; Makanji Y; Yu DY; Tan JY; Ca...</td>\n",
       "      <td>10.1080/13696998.2024.2328483</td>\n",
       "      <td>None</td>\n",
       "      <td>38488130</td>\n",
       "      <td>2</td>\n",
       "    </tr>\n",
       "    <tr>\n",
       "      <th>1</th>\n",
       "      <td>Interactions Between Integrin α9β1 and VCAM-1 ...</td>\n",
       "      <td>Pandey N; Kaur H; Chorawala MR; Anand SK; Chan...</td>\n",
       "      <td>10.1182/bloodadvances.2023012282</td>\n",
       "      <td>Venous thromboembolic events are significant c...</td>\n",
       "      <td>38498701</td>\n",
       "      <td>1</td>\n",
       "    </tr>\n",
       "    <tr>\n",
       "      <th>2</th>\n",
       "      <td>Resolution of Severe Portopulmonary Hypertensi...</td>\n",
       "      <td>Chang AJ; Goh CH</td>\n",
       "      <td>10.14503/THIJ-23-8209</td>\n",
       "      <td>Portopulmonary hypertension is a rare conditio...</td>\n",
       "      <td>38483473</td>\n",
       "      <td>0</td>\n",
       "    </tr>\n",
       "    <tr>\n",
       "      <th>3</th>\n",
       "      <td>Pulmonary Hypertension: Intensification and Pe...</td>\n",
       "      <td>Varian F; Dick J; Battersby C; Roman S; Ablott...</td>\n",
       "      <td>10.1002/pul2.12337</td>\n",
       "      <td>Approved therapies for the treatment of patien...</td>\n",
       "      <td>38500737</td>\n",
       "      <td>3</td>\n",
       "    </tr>\n",
       "    <tr>\n",
       "      <th>4</th>\n",
       "      <td>Comparative adherence of macitentan versus amb...</td>\n",
       "      <td>Lau E; Kotlyar E; Makanji Y; Yu DY; Tan JY; Ca...</td>\n",
       "      <td>10.1080/13696998.2024.2328483</td>\n",
       "      <td>None</td>\n",
       "      <td>38488130</td>\n",
       "      <td>2</td>\n",
       "    </tr>\n",
       "    <tr>\n",
       "      <th>5</th>\n",
       "      <td>Identification of EDNRA as the Key Biomarker f...</td>\n",
       "      <td>Han K; He Z; Liu Y; Chen H</td>\n",
       "      <td>10.1620/tjem.2023.J101</td>\n",
       "      <td>Some studies have investigated the role of cho...</td>\n",
       "      <td>38123303</td>\n",
       "      <td>0</td>\n",
       "    </tr>\n",
       "  </tbody>\n",
       "</table>\n",
       "</div>"
      ],
      "text/plain": [
       "                                               title  \\\n",
       "0  Comparative adherence of macitentan versus amb...   \n",
       "1  Interactions Between Integrin α9β1 and VCAM-1 ...   \n",
       "2  Resolution of Severe Portopulmonary Hypertensi...   \n",
       "3  Pulmonary Hypertension: Intensification and Pe...   \n",
       "4  Comparative adherence of macitentan versus amb...   \n",
       "5  Identification of EDNRA as the Key Biomarker f...   \n",
       "\n",
       "                                         authors_str  \\\n",
       "0  Lau E; Kotlyar E; Makanji Y; Yu DY; Tan JY; Ca...   \n",
       "1  Pandey N; Kaur H; Chorawala MR; Anand SK; Chan...   \n",
       "2                                   Chang AJ; Goh CH   \n",
       "3  Varian F; Dick J; Battersby C; Roman S; Ablott...   \n",
       "4  Lau E; Kotlyar E; Makanji Y; Yu DY; Tan JY; Ca...   \n",
       "5                         Han K; He Z; Liu Y; Chen H   \n",
       "\n",
       "                                doi  \\\n",
       "0     10.1080/13696998.2024.2328483   \n",
       "1  10.1182/bloodadvances.2023012282   \n",
       "2             10.14503/THIJ-23-8209   \n",
       "3                10.1002/pul2.12337   \n",
       "4     10.1080/13696998.2024.2328483   \n",
       "5            10.1620/tjem.2023.J101   \n",
       "\n",
       "                                            abstract      pmid  score  \n",
       "0                                               None  38488130      2  \n",
       "1  Venous thromboembolic events are significant c...  38498701      1  \n",
       "2  Portopulmonary hypertension is a rare conditio...  38483473      0  \n",
       "3  Approved therapies for the treatment of patien...  38500737      3  \n",
       "4                                               None  38488130      2  \n",
       "5  Some studies have investigated the role of cho...  38123303      0  "
      ]
     },
     "execution_count": 54,
     "metadata": {},
     "output_type": "execute_result"
    }
   ],
   "source": [
    "df0"
   ]
  },
  {
   "cell_type": "markdown",
   "metadata": {},
   "source": [
    "### writing to csv file"
   ]
  },
  {
   "cell_type": "code",
   "execution_count": null,
   "metadata": {},
   "outputs": [],
   "source": [
    "csv_file = open('wfile.csv','a',newline='',encoding='utf-8')\n",
    "fieldnames = ['title','authors_str','doi','abstract','pmid','score','selected']\n",
    "writer = csv.DictWriter(csv_file, fieldnames=fieldnames)\n",
    "for values in data.values():\n",
    "    for value in values:  \n",
    "        writer.writerow(value)\n",
    "csv_file.close()"
   ]
  },
  {
   "cell_type": "code",
   "execution_count": null,
   "metadata": {},
   "outputs": [],
   "source": [
    "database = pd.read_csv('wfile.csv')"
   ]
  },
  {
   "cell_type": "code",
   "execution_count": null,
   "metadata": {},
   "outputs": [
    {
     "data": {
      "text/html": [
       "<div>\n",
       "<style scoped>\n",
       "    .dataframe tbody tr th:only-of-type {\n",
       "        vertical-align: middle;\n",
       "    }\n",
       "\n",
       "    .dataframe tbody tr th {\n",
       "        vertical-align: top;\n",
       "    }\n",
       "\n",
       "    .dataframe thead th {\n",
       "        text-align: right;\n",
       "    }\n",
       "</style>\n",
       "<table border=\"1\" class=\"dataframe\">\n",
       "  <thead>\n",
       "    <tr style=\"text-align: right;\">\n",
       "      <th></th>\n",
       "      <th>title</th>\n",
       "      <th>authors_str</th>\n",
       "      <th>doi</th>\n",
       "      <th>abstract</th>\n",
       "      <th>pmid</th>\n",
       "      <th>score</th>\n",
       "      <th>selected</th>\n",
       "    </tr>\n",
       "  </thead>\n",
       "  <tbody>\n",
       "    <tr>\n",
       "      <th>0</th>\n",
       "      <td>Interactions Between Integrin α9β1 and VCAM-1 ...</td>\n",
       "      <td>Pandey N; Kaur H; Chorawala MR; Anand SK; Chan...</td>\n",
       "      <td>10.1182/bloodadvances.2023012282</td>\n",
       "      <td>Venous thromboembolic events are significant c...</td>\n",
       "      <td>38498701</td>\n",
       "      <td>1</td>\n",
       "      <td>True</td>\n",
       "    </tr>\n",
       "    <tr>\n",
       "      <th>1</th>\n",
       "      <td>Comparative adherence of macitentan versus amb...</td>\n",
       "      <td>Lau E; Kotlyar E; Makanji Y; Yu DY; Tan JY; Ca...</td>\n",
       "      <td>10.1080/13696998.2024.2328483</td>\n",
       "      <td>NaN</td>\n",
       "      <td>38488130</td>\n",
       "      <td>2</td>\n",
       "      <td>True</td>\n",
       "    </tr>\n",
       "    <tr>\n",
       "      <th>2</th>\n",
       "      <td>Pulmonary Hypertension: Intensification and Pe...</td>\n",
       "      <td>Varian F; Dick J; Battersby C; Roman S; Ablott...</td>\n",
       "      <td>10.1002/pul2.12337</td>\n",
       "      <td>Approved therapies for the treatment of patien...</td>\n",
       "      <td>38500737</td>\n",
       "      <td>3</td>\n",
       "      <td>True</td>\n",
       "    </tr>\n",
       "    <tr>\n",
       "      <th>3</th>\n",
       "      <td>Comparative adherence of macitentan versus amb...</td>\n",
       "      <td>Lau E; Kotlyar E; Makanji Y; Yu DY; Tan JY; Ca...</td>\n",
       "      <td>10.1080/13696998.2024.2328483</td>\n",
       "      <td>NaN</td>\n",
       "      <td>38488130</td>\n",
       "      <td>2</td>\n",
       "      <td>True</td>\n",
       "    </tr>\n",
       "    <tr>\n",
       "      <th>4</th>\n",
       "      <td>Interactions Between Integrin α9β1 and VCAM-1 ...</td>\n",
       "      <td>Pandey N; Kaur H; Chorawala MR; Anand SK; Chan...</td>\n",
       "      <td>10.1182/bloodadvances.2023012282</td>\n",
       "      <td>Venous thromboembolic events are significant c...</td>\n",
       "      <td>38498701</td>\n",
       "      <td>1</td>\n",
       "      <td>True</td>\n",
       "    </tr>\n",
       "    <tr>\n",
       "      <th>5</th>\n",
       "      <td>Comparative adherence of macitentan versus amb...</td>\n",
       "      <td>Lau E; Kotlyar E; Makanji Y; Yu DY; Tan JY; Ca...</td>\n",
       "      <td>10.1080/13696998.2024.2328483</td>\n",
       "      <td>NaN</td>\n",
       "      <td>38488130</td>\n",
       "      <td>2</td>\n",
       "      <td>True</td>\n",
       "    </tr>\n",
       "    <tr>\n",
       "      <th>6</th>\n",
       "      <td>Pulmonary Hypertension: Intensification and Pe...</td>\n",
       "      <td>Varian F; Dick J; Battersby C; Roman S; Ablott...</td>\n",
       "      <td>10.1002/pul2.12337</td>\n",
       "      <td>Approved therapies for the treatment of patien...</td>\n",
       "      <td>38500737</td>\n",
       "      <td>3</td>\n",
       "      <td>True</td>\n",
       "    </tr>\n",
       "    <tr>\n",
       "      <th>7</th>\n",
       "      <td>Comparative adherence of macitentan versus amb...</td>\n",
       "      <td>Lau E; Kotlyar E; Makanji Y; Yu DY; Tan JY; Ca...</td>\n",
       "      <td>10.1080/13696998.2024.2328483</td>\n",
       "      <td>NaN</td>\n",
       "      <td>38488130</td>\n",
       "      <td>2</td>\n",
       "      <td>True</td>\n",
       "    </tr>\n",
       "  </tbody>\n",
       "</table>\n",
       "</div>"
      ],
      "text/plain": [
       "                                               title  \\\n",
       "0  Interactions Between Integrin α9β1 and VCAM-1 ...   \n",
       "1  Comparative adherence of macitentan versus amb...   \n",
       "2  Pulmonary Hypertension: Intensification and Pe...   \n",
       "3  Comparative adherence of macitentan versus amb...   \n",
       "4  Interactions Between Integrin α9β1 and VCAM-1 ...   \n",
       "5  Comparative adherence of macitentan versus amb...   \n",
       "6  Pulmonary Hypertension: Intensification and Pe...   \n",
       "7  Comparative adherence of macitentan versus amb...   \n",
       "\n",
       "                                         authors_str  \\\n",
       "0  Pandey N; Kaur H; Chorawala MR; Anand SK; Chan...   \n",
       "1  Lau E; Kotlyar E; Makanji Y; Yu DY; Tan JY; Ca...   \n",
       "2  Varian F; Dick J; Battersby C; Roman S; Ablott...   \n",
       "3  Lau E; Kotlyar E; Makanji Y; Yu DY; Tan JY; Ca...   \n",
       "4  Pandey N; Kaur H; Chorawala MR; Anand SK; Chan...   \n",
       "5  Lau E; Kotlyar E; Makanji Y; Yu DY; Tan JY; Ca...   \n",
       "6  Varian F; Dick J; Battersby C; Roman S; Ablott...   \n",
       "7  Lau E; Kotlyar E; Makanji Y; Yu DY; Tan JY; Ca...   \n",
       "\n",
       "                                doi  \\\n",
       "0  10.1182/bloodadvances.2023012282   \n",
       "1     10.1080/13696998.2024.2328483   \n",
       "2                10.1002/pul2.12337   \n",
       "3     10.1080/13696998.2024.2328483   \n",
       "4  10.1182/bloodadvances.2023012282   \n",
       "5     10.1080/13696998.2024.2328483   \n",
       "6                10.1002/pul2.12337   \n",
       "7     10.1080/13696998.2024.2328483   \n",
       "\n",
       "                                            abstract      pmid  score  \\\n",
       "0  Venous thromboembolic events are significant c...  38498701      1   \n",
       "1                                                NaN  38488130      2   \n",
       "2  Approved therapies for the treatment of patien...  38500737      3   \n",
       "3                                                NaN  38488130      2   \n",
       "4  Venous thromboembolic events are significant c...  38498701      1   \n",
       "5                                                NaN  38488130      2   \n",
       "6  Approved therapies for the treatment of patien...  38500737      3   \n",
       "7                                                NaN  38488130      2   \n",
       "\n",
       "   selected  \n",
       "0      True  \n",
       "1      True  \n",
       "2      True  \n",
       "3      True  \n",
       "4      True  \n",
       "5      True  \n",
       "6      True  \n",
       "7      True  "
      ]
     },
     "execution_count": 115,
     "metadata": {},
     "output_type": "execute_result"
    }
   ],
   "source": [
    "database"
   ]
  },
  {
   "cell_type": "markdown",
   "metadata": {},
   "source": [
    "## display history buttons"
   ]
  },
  {
   "cell_type": "code",
   "execution_count": null,
   "metadata": {},
   "outputs": [],
   "source": [
    "from pathlib import Path\n",
    "import os\n",
    "import streamlit as st"
   ]
  },
  {
   "cell_type": "code",
   "execution_count": null,
   "metadata": {},
   "outputs": [],
   "source": [
    "p = Path(os.path.join('resources', 'saved_searches'))"
   ]
  },
  {
   "cell_type": "code",
   "execution_count": null,
   "metadata": {},
   "outputs": [],
   "source": [
    "def history_buttons():\n",
    "        __reloading = st.button('Reload archive', type=\"primary\")\n",
    "        st.markdown('Stored searches')\n",
    "        n = 0\n",
    "        for __file in p.iterdir():\n",
    "            __filename = __file.name.split('.')[0]\n",
    "            if st.button(f\"{__filename.replace('_', '/')}\"):\n",
    "                return True, __filename\n",
    "            __delete_it = st.checkbox('Delete', key = n)\n",
    "            n += 1\n",
    "            while __delete_it:\n",
    "                os.remove(os.path.join(p, __filename+'.json'))\n",
    "                break\n",
    "            __delete_it = False\n",
    "        if __reloading:\n",
    "            __delete_it = False\n",
    "            return False, False\n",
    "        return False, False  "
   ]
  },
  {
   "cell_type": "code",
   "execution_count": null,
   "metadata": {},
   "outputs": [
    {
     "name": "stderr",
     "output_type": "stream",
     "text": [
      "2024-03-23 09:36:09.382 \n",
      "  \u001b[33m\u001b[1mWarning:\u001b[0m to view this Streamlit app on a browser, run it with the following\n",
      "  command:\n",
      "\n",
      "    streamlit run c:\\Users\\josin\\anaconda3\\envs\\journalrater\\Lib\\site-packages\\ipykernel_launcher.py [ARGUMENTS]\n"
     ]
    },
    {
     "data": {
      "text/plain": [
       "(False, False)"
      ]
     },
     "execution_count": 4,
     "metadata": {},
     "output_type": "execute_result"
    }
   ],
   "source": [
    "history_buttons()"
   ]
  },
  {
   "cell_type": "markdown",
   "metadata": {},
   "source": [
    "### Save database"
   ]
  },
  {
   "cell_type": "code",
   "execution_count": 1,
   "metadata": {},
   "outputs": [],
   "source": [
    "from sqlalchemy import create_engine, Column, Integer, String, JSON\n",
    "from sqlalchemy.ext.declarative import declarative_base\n",
    "from sqlalchemy.orm import sessionmaker"
   ]
  },
  {
   "cell_type": "code",
   "execution_count": 2,
   "metadata": {},
   "outputs": [
    {
     "name": "stderr",
     "output_type": "stream",
     "text": [
      "C:\\Users\\josin\\AppData\\Local\\Temp\\ipykernel_14936\\936840091.py:2: MovedIn20Warning: The ``declarative_base()`` function is now available as sqlalchemy.orm.declarative_base(). (deprecated since: 2.0) (Background on SQLAlchemy 2.0 at: https://sqlalche.me/e/b8d9)\n",
      "  Base= declarative_base()\n"
     ]
    }
   ],
   "source": [
    "engine = create_engine('sqlite:///user_params.db')\n",
    "Base= declarative_base()"
   ]
  },
  {
   "cell_type": "code",
   "execution_count": 3,
   "metadata": {},
   "outputs": [],
   "source": [
    "class UserParams(Base):\n",
    "    __tablename__ = 'user_params'\n",
    "    id = Column(Integer, primary_key=True)\n",
    "    user_id = Column(String)\n",
    "    parameters = Column(JSON)\n",
    "\n",
    "    def __init__(self, user_id, parameters):\n",
    "        self.user_id = user_id\n",
    "        self.parameters = parameters"
   ]
  },
  {
   "cell_type": "code",
   "execution_count": 4,
   "metadata": {},
   "outputs": [],
   "source": [
    "Base.metadata.create_all(engine)"
   ]
  },
  {
   "cell_type": "code",
   "execution_count": 5,
   "metadata": {},
   "outputs": [],
   "source": [
    "def save_params(user_id, params):\n",
    "    Session = sessionmaker(bind=engine)\n",
    "    session = Session()\n",
    "    user_params = UserParams(user_id=user_id, parameters=params)\n",
    "    session.add(user_params)\n",
    "    session.commit()\n",
    "    session.close()"
   ]
  },
  {
   "cell_type": "code",
   "execution_count": 6,
   "metadata": {},
   "outputs": [],
   "source": [
    "def get_params(user_id):\n",
    "    Session = sessionmaker(bind= engine)\n",
    "    session = Session()\n",
    "    user_params = session.query(UserParams).filter_by(user_id=user_id).first()\n",
    "    session.close()\n",
    "    if user_params:\n",
    "        return user_params.parameters\n",
    "    else:\n",
    "        return None"
   ]
  },
  {
   "cell_type": "code",
   "execution_count": 22,
   "metadata": {},
   "outputs": [],
   "source": [
    "from config import cfg_item"
   ]
  },
  {
   "cell_type": "code",
   "execution_count": 36,
   "metadata": {},
   "outputs": [],
   "source": [
    "config_data = cfg_item()"
   ]
  },
  {
   "cell_type": "code",
   "execution_count": 37,
   "metadata": {},
   "outputs": [
    {
     "data": {
      "text/plain": [
       "{'query_in_title': 10,\n",
       " 'is_rct': 2,\n",
       " 'made_in_spain': 2,\n",
       " 'is_meta_analysis': 1,\n",
       " 'from_countries': 1,\n",
       " 'threshold': 2}"
      ]
     },
     "execution_count": 37,
     "metadata": {},
     "output_type": "execute_result"
    }
   ],
   "source": [
    "config_data['selection_parameters']"
   ]
  },
  {
   "cell_type": "code",
   "execution_count": 38,
   "metadata": {},
   "outputs": [],
   "source": [
    "params_dic = {'selection_parameters': config_data['selection_parameters'],\n",
    "               'search_terms': config_data['search_terms'],\n",
    "               'countries_list': config_data['countries_list']}"
   ]
  },
  {
   "cell_type": "code",
   "execution_count": 39,
   "metadata": {},
   "outputs": [
    {
     "data": {
      "text/plain": [
       "{'query_in_title': 10,\n",
       " 'is_rct': 2,\n",
       " 'made_in_spain': 2,\n",
       " 'is_meta_analysis': 1,\n",
       " 'from_countries': 1,\n",
       " 'threshold': 2}"
      ]
     },
     "execution_count": 39,
     "metadata": {},
     "output_type": "execute_result"
    }
   ],
   "source": [
    "params_dic['selection_parameters']"
   ]
  },
  {
   "cell_type": "code",
   "execution_count": 40,
   "metadata": {},
   "outputs": [
    {
     "name": "stdout",
     "output_type": "stream",
     "text": [
      "query_in_title 10\n",
      "is_rct 2\n",
      "made_in_spain 2\n",
      "is_meta_analysis 1\n",
      "from_countries 1\n",
      "threshold 2\n"
     ]
    }
   ],
   "source": [
    "for key, value in params_dic['selection_parameters'].items():\n",
    "    print(key, value)"
   ]
  },
  {
   "cell_type": "code",
   "execution_count": 41,
   "metadata": {},
   "outputs": [],
   "source": [
    "from user_params import get_params, save_params"
   ]
  },
  {
   "cell_type": "code",
   "execution_count": 42,
   "metadata": {},
   "outputs": [],
   "source": [
    "save_params('ktulu', params_dic)"
   ]
  },
  {
   "cell_type": "code",
   "execution_count": 43,
   "metadata": {},
   "outputs": [
    {
     "data": {
      "text/plain": [
       "{'selection_parameters': {'query_in_title': 10,\n",
       "  'is_rct': 2,\n",
       "  'made_in_spain': 2,\n",
       "  'is_meta_analysis': 1,\n",
       "  'from_countries': 1,\n",
       "  'threshold': 2},\n",
       " 'search_terms': ['Congenital heart disease AND pulmonary hypertension',\n",
       "  'Cardiopulmonary exercise test AND pulmonary hypertension',\n",
       "  'Systemic sclerosis AND pulmonary hypertension',\n",
       "  'Connective tissue disease AND pulmonary hypertension',\n",
       "  'pulmonary hypertension',\n",
       "  'pediatric pulmonary hypertension',\n",
       "  'pulmonary arterial hypertension',\n",
       "  'macitentan',\n",
       "  'selexipag',\n",
       "  'ambrisentan',\n",
       "  'bosentan',\n",
       "  'sotatercept',\n",
       "  'riociguat',\n",
       "  'portopulmonary hypertension AND pulmonary hypertension',\n",
       "  'echocardiography AND pulmonary hypertension',\n",
       "  'CPET AND pulmonary hypertension',\n",
       "  'PAH'],\n",
       " 'countries_list': ['austria',\n",
       "  'belgium',\n",
       "  'canada',\n",
       "  'denmark',\n",
       "  'finland',\n",
       "  'france',\n",
       "  'germany',\n",
       "  'greece',\n",
       "  'ireland',\n",
       "  'italy',\n",
       "  'netherlands',\n",
       "  'norway',\n",
       "  'portugal',\n",
       "  'states',\n",
       "  'sweden',\n",
       "  'switzerland',\n",
       "  'uk',\n",
       "  'usa']}"
      ]
     },
     "execution_count": 43,
     "metadata": {},
     "output_type": "execute_result"
    }
   ],
   "source": [
    "get_params('ktulu')"
   ]
  },
  {
   "cell_type": "code",
   "execution_count": 44,
   "metadata": {},
   "outputs": [],
   "source": [
    "save_params('', params_dic)"
   ]
  },
  {
   "cell_type": "code",
   "execution_count": 45,
   "metadata": {},
   "outputs": [],
   "source": [
    "jose_params = get_params('jose')"
   ]
  },
  {
   "cell_type": "code",
   "execution_count": 46,
   "metadata": {},
   "outputs": [
    {
     "data": {
      "text/plain": [
       "{'query_in_title': 10,\n",
       " 'is_rct': 2,\n",
       " 'made_in_spain': 2,\n",
       " 'is_meta_analysis': 1,\n",
       " 'from_countries': 1,\n",
       " 'threshold': 2}"
      ]
     },
     "execution_count": 46,
     "metadata": {},
     "output_type": "execute_result"
    }
   ],
   "source": [
    "jose_params['selection_parameters']"
   ]
  },
  {
   "cell_type": "code",
   "execution_count": 47,
   "metadata": {},
   "outputs": [],
   "source": [
    "save_params('jose', params_dic)"
   ]
  },
  {
   "cell_type": "code",
   "execution_count": 48,
   "metadata": {},
   "outputs": [],
   "source": [
    "jose_params = get_params('jose')"
   ]
  },
  {
   "cell_type": "code",
   "execution_count": 49,
   "metadata": {},
   "outputs": [
    {
     "data": {
      "text/plain": [
       "{'query_in_title': 10,\n",
       " 'is_rct': 2,\n",
       " 'made_in_spain': 2,\n",
       " 'is_meta_analysis': 1,\n",
       " 'from_countries': 1,\n",
       " 'threshold': 2}"
      ]
     },
     "execution_count": 49,
     "metadata": {},
     "output_type": "execute_result"
    }
   ],
   "source": [
    "jose_params['selection_parameters']"
   ]
  },
  {
   "cell_type": "markdown",
   "metadata": {},
   "source": [
    "### Regular expressions detect brackets"
   ]
  },
  {
   "cell_type": "code",
   "execution_count": 17,
   "metadata": {},
   "outputs": [
    {
     "name": "stderr",
     "output_type": "stream",
     "text": [
      "\u001b[32m2024-05-10 18:43:21\u001b[0m \u001b[35mMSI-Jose\u001b[0m \u001b[34mmetapub.config[17540]\u001b[0m \u001b[1;30mWARNING\u001b[0m \u001b[33mNCBI_API_KEY was not set.\u001b[0m\n"
     ]
    }
   ],
   "source": [
    "from metapub import PubMedFetcher\n",
    "import re"
   ]
  },
  {
   "cell_type": "code",
   "execution_count": 18,
   "metadata": {},
   "outputs": [],
   "source": [
    "fetch = PubMedFetcher()"
   ]
  },
  {
   "cell_type": "code",
   "execution_count": 19,
   "metadata": {},
   "outputs": [],
   "source": [
    "article = fetch.article_by_pmid(38660909)"
   ]
  },
  {
   "cell_type": "code",
   "execution_count": 20,
   "metadata": {},
   "outputs": [
    {
     "data": {
      "text/plain": [
       "'[Research progress on bioinformatics in pulmonary arterial hypertension].'"
      ]
     },
     "execution_count": 20,
     "metadata": {},
     "output_type": "execute_result"
    }
   ],
   "source": [
    "article.title"
   ]
  },
  {
   "cell_type": "code",
   "execution_count": 36,
   "metadata": {},
   "outputs": [],
   "source": [
    "no_brackets = 'The occurrence of antibody markers of hepatitis B virus infection in an HBsAg-negative blood donor population.'\n",
    "brackets = '[Research progress on bioinformatics in pulmonary arterial hypertension].'\n",
    "brackets_middle = 'Research [progress] on bioinformatics in pulmonary arterial hypertension.'"
   ]
  },
  {
   "cell_type": "code",
   "execution_count": 37,
   "metadata": {},
   "outputs": [],
   "source": [
    "def is_in_english(art_title):\n",
    "        pattern = r'^\\[(.*?)\\]\\.'\n",
    "        found = re.search(pattern, art_title)\n",
    "        return False if found else True"
   ]
  },
  {
   "cell_type": "code",
   "execution_count": 40,
   "metadata": {},
   "outputs": [
    {
     "data": {
      "text/plain": [
       "False"
      ]
     },
     "execution_count": 40,
     "metadata": {},
     "output_type": "execute_result"
    }
   ],
   "source": [
    "is_in_english(brackets_middle)"
   ]
  },
  {
   "cell_type": "code",
   "execution_count": null,
   "metadata": {},
   "outputs": [],
   "source": [
    "if not is_in_english:\n",
    "    print('not in english')"
   ]
  },
  {
   "cell_type": "markdown",
   "metadata": {},
   "source": [
    "in vitro"
   ]
  },
  {
   "cell_type": "code",
   "execution_count": 27,
   "metadata": {},
   "outputs": [],
   "source": [
    "def is_in_vitro(art):\n",
    "        __iv_words = ['dog', 'rat', 'in vitro', 'genomic', 'metabolomic']\n",
    "        if art.abstract != None:\n",
    "            for word in __iv_words:\n",
    "                return True if re.search(r'\\b'+word+'\\b', art.abstract.lower()) else False"
   ]
  },
  {
   "cell_type": "code",
   "execution_count": 25,
   "metadata": {},
   "outputs": [
    {
     "name": "stdout",
     "output_type": "stream",
     "text": [
      "Pulmonary arterial hypertension (PAH) is a severe disease characterized by abnormal pulmonary vascular remodeling and increased right ventricular pressure load, posing a significant threat to patient health. While some pathological mechanisms of PAH have been revealed, the deeper mechanisms of pathogenesis remain to be elucidated. In recent years, bioinformatics has provided a powerful tool for a deeper understanding of the complex mechanisms of PAH through the integration of techniques such as multi-omics analysis, artificial intelligence, and Mendelian randomization. This review focuses on the bioinformatics methods and technologies used in PAH research, summarizing their current applications in the study of disease mechanisms, diagnosis, and prognosis assessment. Additionally, it analyzes the existing challenges faced by bioinformatics and its potential applications in the clinical and basic research fields of PAH in the future.\n"
     ]
    }
   ],
   "source": [
    "print(article.abstract)"
   ]
  },
  {
   "cell_type": "code",
   "execution_count": 24,
   "metadata": {},
   "outputs": [
    {
     "data": {
      "text/plain": [
       "True"
      ]
     },
     "execution_count": 24,
     "metadata": {},
     "output_type": "execute_result"
    }
   ],
   "source": [
    "'rat' in article.abstract"
   ]
  },
  {
   "cell_type": "code",
   "execution_count": 29,
   "metadata": {},
   "outputs": [
    {
     "data": {
      "text/plain": [
       "False"
      ]
     },
     "execution_count": 29,
     "metadata": {},
     "output_type": "execute_result"
    }
   ],
   "source": [
    "is_in_vitro(article)"
   ]
  },
  {
   "cell_type": "markdown",
   "metadata": {},
   "source": [
    "### Modify database to add more selection criteria"
   ]
  },
  {
   "cell_type": "code",
   "execution_count": 41,
   "metadata": {},
   "outputs": [],
   "source": [
    "from user_params import save_params, get_params"
   ]
  },
  {
   "cell_type": "code",
   "execution_count": 45,
   "metadata": {},
   "outputs": [],
   "source": [
    "params_mockuser106 = get_params('soraya')"
   ]
  },
  {
   "cell_type": "code",
   "execution_count": 46,
   "metadata": {},
   "outputs": [
    {
     "data": {
      "text/plain": [
       "{'selection_parameters': {'query_in_title': 0,\n",
       "  'is_rct': 0,\n",
       "  'made_in_spain': 12,\n",
       "  'is_meta_analysis': 0,\n",
       "  'from_countries': 0,\n",
       "  'is_case_report': -1,\n",
       "  'is_in_vitro': -1,\n",
       "  'not_in_english': -1,\n",
       "  'threshold': 2},\n",
       " 'search_terms': ['Congenital heart disease AND pulmonary hypertension',\n",
       "  'Cardiopulmonary exercise test AND pulmonary hypertension',\n",
       "  'Systemic sclerosis AND pulmonary hypertension',\n",
       "  'Connective tissue disease AND pulmonary hypertension',\n",
       "  'pulmonary hypertension',\n",
       "  'pediatric pulmonary hypertension',\n",
       "  'pulmonary arterial hypertension',\n",
       "  'macitentan',\n",
       "  'selexipag',\n",
       "  'ambrisentan',\n",
       "  'bosentan',\n",
       "  'sotatercept',\n",
       "  'riociguat',\n",
       "  'portopulmonary hypertension AND pulmonary hypertension',\n",
       "  'echocardiography AND pulmonary hypertension',\n",
       "  'CPET AND pulmonary hypertension',\n",
       "  'PAH']}"
      ]
     },
     "execution_count": 46,
     "metadata": {},
     "output_type": "execute_result"
    }
   ],
   "source": [
    "params_mockuser106"
   ]
  },
  {
   "cell_type": "code",
   "execution_count": 47,
   "metadata": {},
   "outputs": [
    {
     "data": {
      "text/plain": [
       "{'query_in_title': 0,\n",
       " 'is_rct': 0,\n",
       " 'made_in_spain': 12,\n",
       " 'is_meta_analysis': 0,\n",
       " 'from_countries': 0,\n",
       " 'is_case_report': -1,\n",
       " 'is_in_vitro': -1,\n",
       " 'not_in_english': -1,\n",
       " 'threshold': 2}"
      ]
     },
     "execution_count": 47,
     "metadata": {},
     "output_type": "execute_result"
    }
   ],
   "source": [
    "params_mockuser106['selection_parameters']"
   ]
  },
  {
   "cell_type": "code",
   "execution_count": 5,
   "metadata": {},
   "outputs": [],
   "source": [
    "new_params = {'query_in_title': 0,\n",
    "                'is_rct': 0,\n",
    "                'made_in_spain' : 12,\n",
    "                'is_meta_analysis' : 0,\n",
    "                'from_countries' : 0,\n",
    "                'is_case_report': -1,\n",
    "                'is_in_vitro': -1,\n",
    "                'not_in_english': -1,\n",
    "                'threshold' : 2}"
   ]
  },
  {
   "cell_type": "code",
   "execution_count": 6,
   "metadata": {},
   "outputs": [],
   "source": [
    "params_mockuser106['selection_parameters'] = new_params"
   ]
  },
  {
   "cell_type": "code",
   "execution_count": 7,
   "metadata": {},
   "outputs": [
    {
     "data": {
      "text/plain": [
       "{'search_terms': ['patata'],\n",
       " 'selection_parameters': {'query_in_title': 0,\n",
       "  'is_rct': 0,\n",
       "  'made_in_spain': 12,\n",
       "  'is_meta_analysis': 0,\n",
       "  'from_countries': 0,\n",
       "  'is_case_report': -1,\n",
       "  'is_in_vitro': -1,\n",
       "  'not_in_english': -1,\n",
       "  'threshold': 2}}"
      ]
     },
     "execution_count": 7,
     "metadata": {},
     "output_type": "execute_result"
    }
   ],
   "source": [
    "params_mockuser106"
   ]
  },
  {
   "cell_type": "code",
   "execution_count": 10,
   "metadata": {},
   "outputs": [],
   "source": [
    "save_params('mockuser106', params_mockuser106)"
   ]
  },
  {
   "cell_type": "code",
   "execution_count": 15,
   "metadata": {},
   "outputs": [],
   "source": [
    "params_soraya = get_params('soraya')\n"
   ]
  },
  {
   "cell_type": "code",
   "execution_count": 16,
   "metadata": {},
   "outputs": [
    {
     "data": {
      "text/plain": [
       "{'selection_parameters': {'query_in_title': 0,\n",
       "  'is_rct': 0,\n",
       "  'made_in_spain': 12,\n",
       "  'is_meta_analysis': 0,\n",
       "  'from_countries': 0,\n",
       "  'is_case_report': -1,\n",
       "  'is_in_vitro': -1,\n",
       "  'not_in_english': -1,\n",
       "  'threshold': 2},\n",
       " 'search_terms': ['Congenital heart disease AND pulmonary hypertension',\n",
       "  'Cardiopulmonary exercise test AND pulmonary hypertension',\n",
       "  'Systemic sclerosis AND pulmonary hypertension',\n",
       "  'Connective tissue disease AND pulmonary hypertension',\n",
       "  'pulmonary hypertension',\n",
       "  'pediatric pulmonary hypertension',\n",
       "  'pulmonary arterial hypertension',\n",
       "  'macitentan',\n",
       "  'selexipag',\n",
       "  'ambrisentan',\n",
       "  'bosentan',\n",
       "  'sotatercept',\n",
       "  'riociguat',\n",
       "  'portopulmonary hypertension AND pulmonary hypertension',\n",
       "  'echocardiography AND pulmonary hypertension',\n",
       "  'CPET AND pulmonary hypertension',\n",
       "  'PAH']}"
      ]
     },
     "execution_count": 16,
     "metadata": {},
     "output_type": "execute_result"
    }
   ],
   "source": [
    "params_soraya"
   ]
  },
  {
   "cell_type": "code",
   "execution_count": null,
   "metadata": {},
   "outputs": [],
   "source": [
    "get_params"
   ]
  }
 ],
 "metadata": {
  "kernelspec": {
   "display_name": "journalrater",
   "language": "python",
   "name": "python3"
  },
  "language_info": {
   "codemirror_mode": {
    "name": "ipython",
    "version": 3
   },
   "file_extension": ".py",
   "mimetype": "text/x-python",
   "name": "python",
   "nbconvert_exporter": "python",
   "pygments_lexer": "ipython3",
   "version": "3.12.2"
  }
 },
 "nbformat": 4,
 "nbformat_minor": 2
}
