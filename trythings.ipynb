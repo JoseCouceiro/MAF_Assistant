{
 "cells": [
  {
   "cell_type": "code",
   "execution_count": 1,
   "metadata": {},
   "outputs": [
    {
     "name": "stderr",
     "output_type": "stream",
     "text": [
      "\u001b[32m2024-03-08 14:28:55\u001b[0m \u001b[35mMSI-Jose\u001b[0m \u001b[34mmetapub.config[18128]\u001b[0m \u001b[1;30mWARNING\u001b[0m \u001b[33mNCBI_API_KEY was not set.\u001b[0m\n"
     ]
    }
   ],
   "source": [
    "import deepl\n",
    "import metapub\n",
    "from deepl_conect import Translate\n",
    "from config import cfg_item\n",
    "from config import Config"
   ]
  },
  {
   "cell_type": "markdown",
   "metadata": {},
   "source": [
    "## deepl"
   ]
  },
  {
   "cell_type": "code",
   "execution_count": 2,
   "metadata": {},
   "outputs": [],
   "source": [
    "auth_key_txt = \"e4e14485-7b4b-be5b-ed0c-229c80f91493:fx\""
   ]
  },
  {
   "cell_type": "code",
   "execution_count": 3,
   "metadata": {},
   "outputs": [],
   "source": [
    "#configurator = Config()"
   ]
  },
  {
   "cell_type": "code",
   "execution_count": 4,
   "metadata": {},
   "outputs": [],
   "source": [
    "auth_key = cfg_item('keys', 'deepl')"
   ]
  },
  {
   "cell_type": "code",
   "execution_count": 5,
   "metadata": {},
   "outputs": [],
   "source": [
    "transl = Translate()"
   ]
  },
  {
   "cell_type": "code",
   "execution_count": 6,
   "metadata": {},
   "outputs": [
    {
     "name": "stdout",
     "output_type": "stream",
     "text": [
      "c:\\Users\\josin\\anaconda3\\envs\\journalrater\\Lib\\site-packages\\deepl\\__init__.py\n"
     ]
    }
   ],
   "source": [
    "print(deepl.__file__)"
   ]
  },
  {
   "cell_type": "code",
   "execution_count": 7,
   "metadata": {},
   "outputs": [
    {
     "name": "stderr",
     "output_type": "stream",
     "text": [
      "\u001b[32m2024-03-08 14:28:56\u001b[0m \u001b[35mMSI-Jose\u001b[0m \u001b[34mdeepl[18128]\u001b[0m \u001b[1;30mINFO\u001b[0m Request to DeepL API method=POST url=https://api-free.deepl.com/v2/translate\n",
      "\u001b[32m2024-03-08 14:28:56\u001b[0m \u001b[35mMSI-Jose\u001b[0m \u001b[34mdeepl[18128]\u001b[0m \u001b[1;30mINFO\u001b[0m DeepL API response status_code=200 url=https://api-free.deepl.com/v2/translate\n"
     ]
    }
   ],
   "source": [
    "sentence = transl.translate_to_sp('hello world')"
   ]
  },
  {
   "cell_type": "code",
   "execution_count": 8,
   "metadata": {},
   "outputs": [
    {
     "name": "stdout",
     "output_type": "stream",
     "text": [
      "hola mundo\n"
     ]
    }
   ],
   "source": [
    "print(sentence)"
   ]
  },
  {
   "cell_type": "markdown",
   "metadata": {},
   "source": [
    "## countries list order"
   ]
  },
  {
   "cell_type": "code",
   "execution_count": 9,
   "metadata": {},
   "outputs": [],
   "source": [
    "countries_list=[\"usa\",\n",
    "                        \"canada\",\n",
    "                        \"italy\",\n",
    "                        \"france\",\n",
    "                        \"denmark\",\n",
    "                        \"austria\",\n",
    "                        \"belgium\",\n",
    "                        \"finland\",\n",
    "                        \"germany\",\n",
    "                        \"greece\",\n",
    "                        \"ireland\",\n",
    "                        \"netherlands\",\n",
    "                        \"norway\",\n",
    "                        \"portugal\",\n",
    "                        \"sweden\",\n",
    "                        \"switzerland\",\n",
    "                        \"uk\",\n",
    "                        \"states\"]"
   ]
  },
  {
   "cell_type": "code",
   "execution_count": 10,
   "metadata": {},
   "outputs": [],
   "source": [
    "ordered_list= sorted(countries_list)"
   ]
  },
  {
   "cell_type": "code",
   "execution_count": 11,
   "metadata": {},
   "outputs": [
    {
     "data": {
      "text/plain": [
       "['austria',\n",
       " 'belgium',\n",
       " 'canada',\n",
       " 'denmark',\n",
       " 'finland',\n",
       " 'france',\n",
       " 'germany',\n",
       " 'greece',\n",
       " 'ireland',\n",
       " 'italy',\n",
       " 'netherlands',\n",
       " 'norway',\n",
       " 'portugal',\n",
       " 'states',\n",
       " 'sweden',\n",
       " 'switzerland',\n",
       " 'uk',\n",
       " 'usa']"
      ]
     },
     "execution_count": 11,
     "metadata": {},
     "output_type": "execute_result"
    }
   ],
   "source": [
    "ordered_list"
   ]
  },
  {
   "cell_type": "markdown",
   "metadata": {},
   "source": [
    "## parameters dates"
   ]
  },
  {
   "cell_type": "code",
   "execution_count": 12,
   "metadata": {},
   "outputs": [],
   "source": [
    "from parameters import Parameters"
   ]
  },
  {
   "cell_type": "code",
   "execution_count": 13,
   "metadata": {},
   "outputs": [],
   "source": [
    "params = Parameters()"
   ]
  },
  {
   "cell_type": "code",
   "execution_count": 14,
   "metadata": {},
   "outputs": [
    {
     "data": {
      "text/plain": [
       "'2024/03/01'"
      ]
     },
     "execution_count": 14,
     "metadata": {},
     "output_type": "execute_result"
    }
   ],
   "source": [
    "params.start_date_str"
   ]
  },
  {
   "cell_type": "markdown",
   "metadata": {},
   "source": [
    "## write json"
   ]
  },
  {
   "cell_type": "code",
   "execution_count": 15,
   "metadata": {},
   "outputs": [],
   "source": [
    "threshold = cfg_item('threshold')"
   ]
  },
  {
   "cell_type": "code",
   "execution_count": 17,
   "metadata": {},
   "outputs": [
    {
     "data": {
      "text/plain": [
       "2"
      ]
     },
     "execution_count": 17,
     "metadata": {},
     "output_type": "execute_result"
    }
   ],
   "source": [
    "threshold"
   ]
  },
  {
   "cell_type": "markdown",
   "metadata": {},
   "source": [
    "## insert paragraph jumps in abstratct"
   ]
  },
  {
   "cell_type": "code",
   "execution_count": 2,
   "metadata": {},
   "outputs": [
    {
     "name": "stdout",
     "output_type": "stream",
     "text": [
      "\n",
      "\n",
      "INTRODUCCIÓN: Los datos sobre la práctica clínica real y los resultados de los pacientes con hipertensión arterial pulmonar asociada a enfermedad del tejido conectivo (HAP-TCP) son escasos. Los estudios OPUS/OrPHeUS incluyeron a pacientes que empezaban a recibir macitentan, incluidos los que padecían HAP-CTD. Este análisis describe las características de los pacientes, los patrones de tratamiento, los resultados y los perfiles de seguridad de los pacientes con CTD-PAH que iniciaron macitentan por primera vez en los EE.UU. utilizando el conjunto de datos combinados OPUS/OrPHeUS. MÉTODOS: OPUS fue un registro de fármacos prospectivo, multicéntrico, observacional y a largo plazo de EE. UU. (abril de 2014-junio de 2020). OrPHeUS fue una revisión de historias clínicas retrospectiva, multicéntrica, estadounidense (octubre de 2013-marzo de 2017). Las características, los patrones de tratamiento, la seguridad y los resultados durante el tratamiento con macitentan de pacientes con CTD-PAH y sus subgrupos esclerosis sistémica (SSc-PAH), lupus eritematoso sistémico (SLE-PAH) y CTD mixto (MCTD-PAH) se compararon descriptivamente con pacientes con HAP idiopática/heritable (I/HPAH). RESULTADOS: La población OPUS/OrPHeUS combinada incluyó 2.498 pacientes con HAP-I/HAP y 1.192 pacientes con HAP-CT (708 HAP-Sc; 159 HAP-LS; 124 HAP-MTC y 201 HAP-CT de otras etiologías). Al inicio del tratamiento con macitentan en los pacientes con HAP-I y HAP-TC, respectivamente: El 61,2 y el 69,3% se encontraban en clase funcional III/IV de la Organización Mundial de la Salud (OMS); la mediana de la distancia caminada en 6 minutos fue de 289 y 279 m; y el 58,1 y el 65,2% recibieron macitentan como tratamiento combinado. Durante el seguimiento, para los pacientes con I/HPAH y CTD-PAH, respectivamente: la mediana de la duración de la exposición a macitentan observada fue de 14,0 y 15,8 meses; el 79,0 y el 83.Las estimaciones de Kaplan-Meier (límites de confianza [LC] del 95%) de pacientes libres de hospitalización por cualquier causa al año fueron del 60,3% (58,1, 62,4) y del 59,3% (56,1, 62,3); y las estimaciones de Kaplan-Meier (LC del 95%) de supervivencia al año fueron del 90,5% (89,1, 91,7) y del 90,6% (88,6, 92,3). CONCLUSIONES: El macitentan se utilizó en la práctica clínica en pacientes con CTD-PAH y sus subgrupos, incluso como terapia combinada. El perfil de seguridad y tolerabilidad de macitentan en pacientes con CTD-PAH fue comparable al de los pacientes con I/HPAH. REGISTRO DEL ENSAYO: Registro de Usuarios de OPsumit® (OPUS): NCT02126943; cohorte de usuarios históricos de Opsumit® (OrPHeUS): NCT03197688; www. CLINICALTRIALS: gov Resumen gráfico disponible para este artículo.\n",
      "\n"
     ]
    }
   ],
   "source": [
    "import re\n",
    "\n",
    "def insert_paragraph_jumps(text):\n",
    "    paragraphs = text.split('\\n\\n')  # Split text into paragraphs\n",
    "    new_paragraphs = []\n",
    "    \n",
    "    for paragraph in paragraphs:\n",
    "        lines = paragraph.split('\\n')  # Split paragraph into lines\n",
    "        new_lines = []\n",
    "        \n",
    "        for line in lines:\n",
    "            # Using regular expression to find words in uppercase followed by a colon\n",
    "            if re.search(r'\\b[A-Z]+\\:', line):\n",
    "                new_lines.append('\\n' + line)  # Insert paragraph jump before the line containing the pattern\n",
    "            else:\n",
    "                new_lines.append(line)\n",
    "        \n",
    "        new_paragraphs.append('\\n'.join(new_lines))  # Join lines back to form paragraph\n",
    "    \n",
    "    return '\\n\\n'.join(new_paragraphs)  # Join paragraphs back to form text\n",
    "\n",
    "# Example usage:\n",
    "text = \"\"\"\n",
    "INTRODUCCIÓN: Los datos sobre la práctica clínica real y los resultados de los pacientes con hipertensión arterial pulmonar asociada a enfermedad del tejido conectivo (HAP-TCP) son escasos. Los estudios OPUS/OrPHeUS incluyeron a pacientes que empezaban a recibir macitentan, incluidos los que padecían HAP-CTD. Este análisis describe las características de los pacientes, los patrones de tratamiento, los resultados y los perfiles de seguridad de los pacientes con CTD-PAH que iniciaron macitentan por primera vez en los EE.UU. utilizando el conjunto de datos combinados OPUS/OrPHeUS. MÉTODOS: OPUS fue un registro de fármacos prospectivo, multicéntrico, observacional y a largo plazo de EE. UU. (abril de 2014-junio de 2020). OrPHeUS fue una revisión de historias clínicas retrospectiva, multicéntrica, estadounidense (octubre de 2013-marzo de 2017). Las características, los patrones de tratamiento, la seguridad y los resultados durante el tratamiento con macitentan de pacientes con CTD-PAH y sus subgrupos esclerosis sistémica (SSc-PAH), lupus eritematoso sistémico (SLE-PAH) y CTD mixto (MCTD-PAH) se compararon descriptivamente con pacientes con HAP idiopática/heritable (I/HPAH). RESULTADOS: La población OPUS/OrPHeUS combinada incluyó 2.498 pacientes con HAP-I/HAP y 1.192 pacientes con HAP-CT (708 HAP-Sc; 159 HAP-LS; 124 HAP-MTC y 201 HAP-CT de otras etiologías). Al inicio del tratamiento con macitentan en los pacientes con HAP-I y HAP-TC, respectivamente: El 61,2 y el 69,3% se encontraban en clase funcional III/IV de la Organización Mundial de la Salud (OMS); la mediana de la distancia caminada en 6 minutos fue de 289 y 279 m; y el 58,1 y el 65,2% recibieron macitentan como tratamiento combinado. Durante el seguimiento, para los pacientes con I/HPAH y CTD-PAH, respectivamente: la mediana de la duración de la exposición a macitentan observada fue de 14,0 y 15,8 meses; el 79,0 y el 83.Las estimaciones de Kaplan-Meier (límites de confianza [LC] del 95%) de pacientes libres de hospitalización por cualquier causa al año fueron del 60,3% (58,1, 62,4) y del 59,3% (56,1, 62,3); y las estimaciones de Kaplan-Meier (LC del 95%) de supervivencia al año fueron del 90,5% (89,1, 91,7) y del 90,6% (88,6, 92,3). CONCLUSIONES: El macitentan se utilizó en la práctica clínica en pacientes con CTD-PAH y sus subgrupos, incluso como terapia combinada. El perfil de seguridad y tolerabilidad de macitentan en pacientes con CTD-PAH fue comparable al de los pacientes con I/HPAH. REGISTRO DEL ENSAYO: Registro de Usuarios de OPsumit® (OPUS): NCT02126943; cohorte de usuarios históricos de Opsumit® (OrPHeUS): NCT03197688; www. CLINICALTRIALS: gov Resumen gráfico disponible para este artículo.\n",
    "\"\"\"\n",
    "\n",
    "modified_text = insert_paragraph_jumps(text)\n",
    "print(modified_text)"
   ]
  },
  {
   "cell_type": "code",
   "execution_count": 8,
   "metadata": {},
   "outputs": [],
   "source": [
    "abstract = 'INTRODUCCIÓN: Los datos sobre la práctica clínica real y los resultados de los pacientes con hipertensión arterial pulmonar asociada a enfermedad del tejido conectivo (HAP-TCP) son escasos. Los estudios OPUS/OrPHeUS incluyeron a pacientes que empezaban a recibir macitentan, incluidos los que padecían HAP-CTD. Este análisis describe las características de los pacientes, los patrones de tratamiento, los resultados y los perfiles de seguridad de los pacientes con CTD-PAH que iniciaron macitentan por primera vez en los EE.UU. utilizando el conjunto de datos combinados OPUS/OrPHeUS. \\\n",
    "    MÉTODOS: OPUS fue un registro de fármacos prospectivo, multicéntrico, observacional y a largo plazo de EE. UU. (abril de 2014-junio de 2020). OrPHeUS fue una revisión de historias clínicas retrospectiva, multicéntrica, estadounidense (octubre de 2013-marzo de 2017). Las características, los patrones de tratamiento, la seguridad y los resultados durante el tratamiento con macitentan de pacientes con CTD-PAH y sus subgrupos esclerosis sistémica (SSc-PAH), lupus eritematoso sistémico (SLE-PAH) y CTD mixto (MCTD-PAH) se compararon descriptivamente con pacientes con HAP idiopática/heritable (I/HPAH). \\\n",
    "        RESULTADOS: La población OPUS/OrPHeUS combinada incluyó 2.498 pacientes con HAP-I/HAP y 1.192 pacientes con HAP-CT (708 HAP-Sc; 159 HAP-LS; 124 HAP-MTC y 201 HAP-CT de otras etiologías). Al inicio del tratamiento con macitentan en los pacientes con HAP-I y HAP-TC, respectivamente: El 61,2 y el 69,3% se encontraban en clase funcional III/IV de la Organización Mundial de la Salud (OMS); la mediana de la distancia caminada en 6 minutos fue de 289 y 279 m; y el 58,1 y el 65,2% recibieron macitentan como tratamiento combinado. Durante el seguimiento, para los pacientes con I/HPAH y CTD-PAH, respectivamente: la mediana de la duración de la exposición a macitentan observada fue de 14,0 y 15,8 meses; el 79,0 y el 83.Las estimaciones de Kaplan-Meier (límites de confianza [LC] del 95%) de pacientes libres de hospitalización por cualquier causa al año fueron del 60,3% (58,1, 62,4) y del 59,3% (56,1, 62,3); y las estimaciones de Kaplan-Meier (LC del 95%) de supervivencia al año fueron del 90,5% (89,1, 91,7) y del 90,6% (88,6, 92,3). \\\n",
    "    CONCLUSIONES: El macitentan se utilizó en la práctica clínica en pacientes con CTD-PAH y sus subgrupos, incluso como terapia combinada. El perfil de seguridad y tolerabilidad de macitentan en pacientes con CTD-PAH fue comparable al de los pacientes con I/HPAH. \\\n",
    "    REGISTRO DEL ENSAYO: Registro de Usuarios de OPsumit® (OPUS): NCT02126943; cohorte de usuarios históricos de Opsumit® (OrPHeUS): NCT03197688; www.CLINICALTRIALS.gov Resumen gráfico disponible para este artículo.'"
   ]
  },
  {
   "cell_type": "code",
   "execution_count": 113,
   "metadata": {},
   "outputs": [],
   "source": [
    "pattern = r'\\b([A-ZÁÉÍÓÚÜÑ\\s]+\\:)'\n",
    "# pattern = r\"\\s(?=[A-Z])\""
   ]
  },
  {
   "cell_type": "code",
   "execution_count": 114,
   "metadata": {},
   "outputs": [
    {
     "data": {
      "text/plain": [
       "<re.Match object; span=(0, 13), match='INTRODUCCIÓN:'>"
      ]
     },
     "execution_count": 114,
     "metadata": {},
     "output_type": "execute_result"
    }
   ],
   "source": [
    "re.search(pattern, abstract)"
   ]
  },
  {
   "cell_type": "code",
   "execution_count": 115,
   "metadata": {},
   "outputs": [
    {
     "data": {
      "text/plain": [
       "['INTRODUCCIÓN:',\n",
       " 'MÉTODOS:',\n",
       " 'RESULTADOS:',\n",
       " 'CONCLUSIONES:',\n",
       " 'REGISTRO DEL ENSAYO:']"
      ]
     },
     "execution_count": 115,
     "metadata": {},
     "output_type": "execute_result"
    }
   ],
   "source": [
    "re.findall(pattern, abstract)"
   ]
  },
  {
   "cell_type": "code",
   "execution_count": 116,
   "metadata": {},
   "outputs": [],
   "source": [
    "splitted_text = re.split(pattern, abstract)"
   ]
  },
  {
   "cell_type": "code",
   "execution_count": 117,
   "metadata": {},
   "outputs": [
    {
     "data": {
      "text/plain": [
       "['',\n",
       " 'INTRODUCCIÓN:',\n",
       " ' Los datos sobre la práctica clínica real y los resultados de los pacientes con hipertensión arterial pulmonar asociada a enfermedad del tejido conectivo (HAP-TCP) son escasos. Los estudios OPUS/OrPHeUS incluyeron a pacientes que empezaban a recibir macitentan, incluidos los que padecían HAP-CTD. Este análisis describe las características de los pacientes, los patrones de tratamiento, los resultados y los perfiles de seguridad de los pacientes con CTD-PAH que iniciaron macitentan por primera vez en los EE.UU. utilizando el conjunto de datos combinados OPUS/OrPHeUS.     ',\n",
       " 'MÉTODOS:',\n",
       " ' OPUS fue un registro de fármacos prospectivo, multicéntrico, observacional y a largo plazo de EE. UU. (abril de 2014-junio de 2020). OrPHeUS fue una revisión de historias clínicas retrospectiva, multicéntrica, estadounidense (octubre de 2013-marzo de 2017). Las características, los patrones de tratamiento, la seguridad y los resultados durante el tratamiento con macitentan de pacientes con CTD-PAH y sus subgrupos esclerosis sistémica (SSc-PAH), lupus eritematoso sistémico (SLE-PAH) y CTD mixto (MCTD-PAH) se compararon descriptivamente con pacientes con HAP idiopática/heritable (I/HPAH).         ',\n",
       " 'RESULTADOS:',\n",
       " ' La población OPUS/OrPHeUS combinada incluyó 2.498 pacientes con HAP-I/HAP y 1.192 pacientes con HAP-CT (708 HAP-Sc; 159 HAP-LS; 124 HAP-MTC y 201 HAP-CT de otras etiologías). Al inicio del tratamiento con macitentan en los pacientes con HAP-I y HAP-TC, respectivamente: El 61,2 y el 69,3% se encontraban en clase funcional III/IV de la Organización Mundial de la Salud (OMS); la mediana de la distancia caminada en 6 minutos fue de 289 y 279 m; y el 58,1 y el 65,2% recibieron macitentan como tratamiento combinado. Durante el seguimiento, para los pacientes con I/HPAH y CTD-PAH, respectivamente: la mediana de la duración de la exposición a macitentan observada fue de 14,0 y 15,8 meses; el 79,0 y el 83.Las estimaciones de Kaplan-Meier (límites de confianza [LC] del 95%) de pacientes libres de hospitalización por cualquier causa al año fueron del 60,3% (58,1, 62,4) y del 59,3% (56,1, 62,3); y las estimaciones de Kaplan-Meier (LC del 95%) de supervivencia al año fueron del 90,5% (89,1, 91,7) y del 90,6% (88,6, 92,3).     ',\n",
       " 'CONCLUSIONES:',\n",
       " ' El macitentan se utilizó en la práctica clínica en pacientes con CTD-PAH y sus subgrupos, incluso como terapia combinada. El perfil de seguridad y tolerabilidad de macitentan en pacientes con CTD-PAH fue comparable al de los pacientes con I/HPAH.     ',\n",
       " 'REGISTRO DEL ENSAYO:',\n",
       " ' Registro de Usuarios de OPsumit® (OPUS): NCT02126943; cohorte de usuarios históricos de Opsumit® (OrPHeUS): NCT03197688; www.CLINICALTRIALS.gov Resumen gráfico disponible para este artículo.']"
      ]
     },
     "execution_count": 117,
     "metadata": {},
     "output_type": "execute_result"
    }
   ],
   "source": [
    "splitted_text"
   ]
  },
  {
   "cell_type": "code",
   "execution_count": 118,
   "metadata": {},
   "outputs": [],
   "source": [
    "text = \"\\n\".join(splitted_text)"
   ]
  },
  {
   "cell_type": "code",
   "execution_count": 119,
   "metadata": {},
   "outputs": [
    {
     "name": "stdout",
     "output_type": "stream",
     "text": [
      "\n",
      "INTRODUCCIÓN:\n",
      " Los datos sobre la práctica clínica real y los resultados de los pacientes con hipertensión arterial pulmonar asociada a enfermedad del tejido conectivo (HAP-TCP) son escasos. Los estudios OPUS/OrPHeUS incluyeron a pacientes que empezaban a recibir macitentan, incluidos los que padecían HAP-CTD. Este análisis describe las características de los pacientes, los patrones de tratamiento, los resultados y los perfiles de seguridad de los pacientes con CTD-PAH que iniciaron macitentan por primera vez en los EE.UU. utilizando el conjunto de datos combinados OPUS/OrPHeUS.     \n",
      "MÉTODOS:\n",
      " OPUS fue un registro de fármacos prospectivo, multicéntrico, observacional y a largo plazo de EE. UU. (abril de 2014-junio de 2020). OrPHeUS fue una revisión de historias clínicas retrospectiva, multicéntrica, estadounidense (octubre de 2013-marzo de 2017). Las características, los patrones de tratamiento, la seguridad y los resultados durante el tratamiento con macitentan de pacientes con CTD-PAH y sus subgrupos esclerosis sistémica (SSc-PAH), lupus eritematoso sistémico (SLE-PAH) y CTD mixto (MCTD-PAH) se compararon descriptivamente con pacientes con HAP idiopática/heritable (I/HPAH).         \n",
      "RESULTADOS:\n",
      " La población OPUS/OrPHeUS combinada incluyó 2.498 pacientes con HAP-I/HAP y 1.192 pacientes con HAP-CT (708 HAP-Sc; 159 HAP-LS; 124 HAP-MTC y 201 HAP-CT de otras etiologías). Al inicio del tratamiento con macitentan en los pacientes con HAP-I y HAP-TC, respectivamente: El 61,2 y el 69,3% se encontraban en clase funcional III/IV de la Organización Mundial de la Salud (OMS); la mediana de la distancia caminada en 6 minutos fue de 289 y 279 m; y el 58,1 y el 65,2% recibieron macitentan como tratamiento combinado. Durante el seguimiento, para los pacientes con I/HPAH y CTD-PAH, respectivamente: la mediana de la duración de la exposición a macitentan observada fue de 14,0 y 15,8 meses; el 79,0 y el 83.Las estimaciones de Kaplan-Meier (límites de confianza [LC] del 95%) de pacientes libres de hospitalización por cualquier causa al año fueron del 60,3% (58,1, 62,4) y del 59,3% (56,1, 62,3); y las estimaciones de Kaplan-Meier (LC del 95%) de supervivencia al año fueron del 90,5% (89,1, 91,7) y del 90,6% (88,6, 92,3).     \n",
      "CONCLUSIONES:\n",
      " El macitentan se utilizó en la práctica clínica en pacientes con CTD-PAH y sus subgrupos, incluso como terapia combinada. El perfil de seguridad y tolerabilidad de macitentan en pacientes con CTD-PAH fue comparable al de los pacientes con I/HPAH.     \n",
      "REGISTRO DEL ENSAYO:\n",
      " Registro de Usuarios de OPsumit® (OPUS): NCT02126943; cohorte de usuarios históricos de Opsumit® (OrPHeUS): NCT03197688; www.CLINICALTRIALS.gov Resumen gráfico disponible para este artículo.\n"
     ]
    }
   ],
   "source": [
    "print(text)"
   ]
  },
  {
   "cell_type": "code",
   "execution_count": 131,
   "metadata": {},
   "outputs": [],
   "source": [
    "def split_paragraphs(abst):\n",
    "    pattern = r'\\b([A-ZÁÉÍÓÚÜÑ\\s]+\\:)'\n",
    "    splitted = re.split(pattern, abst)\n",
    "    return '\\n'.join(splitted)\n"
   ]
  },
  {
   "cell_type": "code",
   "execution_count": 133,
   "metadata": {},
   "outputs": [
    {
     "name": "stdout",
     "output_type": "stream",
     "text": [
      "\n",
      "INTRODUCCIÓN:\n",
      " Los datos sobre la práctica clínica real y los resultados de los pacientes con hipertensión arterial pulmonar asociada a enfermedad del tejido conectivo (HAP-TCP) son escasos. Los estudios OPUS/OrPHeUS incluyeron a pacientes que empezaban a recibir macitentan, incluidos los que padecían HAP-CTD. Este análisis describe las características de los pacientes, los patrones de tratamiento, los resultados y los perfiles de seguridad de los pacientes con CTD-PAH que iniciaron macitentan por primera vez en los EE.UU. utilizando el conjunto de datos combinados OPUS/OrPHeUS.     \n",
      "MÉTODOS:\n",
      " OPUS fue un registro de fármacos prospectivo, multicéntrico, observacional y a largo plazo de EE. UU. (abril de 2014-junio de 2020). OrPHeUS fue una revisión de historias clínicas retrospectiva, multicéntrica, estadounidense (octubre de 2013-marzo de 2017). Las características, los patrones de tratamiento, la seguridad y los resultados durante el tratamiento con macitentan de pacientes con CTD-PAH y sus subgrupos esclerosis sistémica (SSc-PAH), lupus eritematoso sistémico (SLE-PAH) y CTD mixto (MCTD-PAH) se compararon descriptivamente con pacientes con HAP idiopática/heritable (I/HPAH).         \n",
      "RESULTADOS:\n",
      " La población OPUS/OrPHeUS combinada incluyó 2.498 pacientes con HAP-I/HAP y 1.192 pacientes con HAP-CT (708 HAP-Sc; 159 HAP-LS; 124 HAP-MTC y 201 HAP-CT de otras etiologías). Al inicio del tratamiento con macitentan en los pacientes con HAP-I y HAP-TC, respectivamente: El 61,2 y el 69,3% se encontraban en clase funcional III/IV de la Organización Mundial de la Salud (OMS); la mediana de la distancia caminada en 6 minutos fue de 289 y 279 m; y el 58,1 y el 65,2% recibieron macitentan como tratamiento combinado. Durante el seguimiento, para los pacientes con I/HPAH y CTD-PAH, respectivamente: la mediana de la duración de la exposición a macitentan observada fue de 14,0 y 15,8 meses; el 79,0 y el 83.Las estimaciones de Kaplan-Meier (límites de confianza [LC] del 95%) de pacientes libres de hospitalización por cualquier causa al año fueron del 60,3% (58,1, 62,4) y del 59,3% (56,1, 62,3); y las estimaciones de Kaplan-Meier (LC del 95%) de supervivencia al año fueron del 90,5% (89,1, 91,7) y del 90,6% (88,6, 92,3).     \n",
      "CONCLUSIONES:\n",
      " El macitentan se utilizó en la práctica clínica en pacientes con CTD-PAH y sus subgrupos, incluso como terapia combinada. El perfil de seguridad y tolerabilidad de macitentan en pacientes con CTD-PAH fue comparable al de los pacientes con I/HPAH.     \n",
      "REGISTRO DEL ENSAYO:\n",
      " Registro de Usuarios de OPsumit® (OPUS): NCT02126943; cohorte de usuarios históricos de Opsumit® (OrPHeUS): NCT03197688; www.CLINICALTRIALS.gov Resumen gráfico disponible para este artículo.\n"
     ]
    }
   ],
   "source": [
    "print(split_paragraphs(abstract))"
   ]
  },
  {
   "cell_type": "code",
   "execution_count": 135,
   "metadata": {},
   "outputs": [],
   "source": [
    "abstract2 = 'ANTECEDENTES: La estratificación del riesgo es la piedra angular del tratamiento de la hipertensión arterial pulmonar (HAP). Las directrices actuales de la ESC/ERS recomiendan utilizar el modelo de riesgo COMPERA de 3 estratos al inicio y el modelo COMPERA 2.0 de 4 estratos durante el seguimiento. Sin embargo, las directrices no tienen en cuenta otras puntuaciones de riesgo disponibles, como REVEAL Lite 2. PREGUNTA DE INVESTIGACIÓN: ¿Es REVEAL Lite 2 mejor para discriminar el riesgo que los modelos de evaluación del riesgo COMPERA en las evaluaciones basales o de seguimiento? DISEÑO Y MÉTODOS DEL ESTUDIO: Analizamos los datos de los pacientes con HAP inscritos consecutivamente entre el periodo de junio de 2011 a febrero de 2022 en el registro de HAP de nuestro Centro experto en Hipertensión Pulmonar. Los pacientes fueron estratificados de acuerdo con las puntuaciones de riesgo REVEAL Lite 2, COMPERA 3-, y 4 estratos al inicio y en el seguimiento para predecir el resultado compuesto para el trasplante de pulmón o la muerte. Se trazaron curvas ROC para predecir el resultado binario a los 3, 5 y 7 años. Las áreas bajo la curva (AUC) de las puntuaciones se compararon mediante la prueba de ji cuadrado. El rendimiento de las puntuaciones se determinó mediante el estadístico C de Harrel. RESULTADOS: Se incluyeron 296 pacientes para la evaluación inicial y 196 para el seguimiento. La supervivencia global libre de trasplante en nuestra población de pacientes a 1, 3, 5 y 7 años fue del 93,6%, 81,3%, 75,1% y 68,8% respectivamente. Al inicio del estudio, el estadístico C de REVEAL Lite 2 fue de 0,74 (0,69, 0,80), en comparación con el 0,68 (0,63, 0,74) del modelo COMPERA de 4 estratos y el 0,63 (0,58, 0,69) del modelo COMPERA de 3 estratos. Todas las diferencias en el estadístico C entre REVEAL Lite 2 y los demás modelos fueron estadísticamente significativas al inicio del estudio. INTERPRETACIÓN: Nuestro análisis mostró que REVEAL Lite 2 era mejor al inicio para discriminar el riesgo en nuestra población de pacientes. Las directrices futuras deberían considerar la inclusión de REVEAL Lite 2 en el algoritmo de tratamiento para ayudar a los médicos a tomar decisiones informadas. Otros análisis en cohortes más amplias podrían ayudar a validar estos hallazgos.'"
   ]
  },
  {
   "cell_type": "code",
   "execution_count": 136,
   "metadata": {},
   "outputs": [
    {
     "name": "stdout",
     "output_type": "stream",
     "text": [
      "\n",
      "ANTECEDENTES:\n",
      " La estratificación del riesgo es la piedra angular del tratamiento de la hipertensión arterial pulmonar (HAP). Las directrices actuales de la ESC/ERS recomiendan utilizar el modelo de riesgo COMPERA de 3 estratos al inicio y el modelo COMPERA 2.0 de 4 estratos durante el seguimiento. Sin embargo, las directrices no tienen en cuenta otras puntuaciones de riesgo disponibles, como REVEAL Lite 2. \n",
      "PREGUNTA DE INVESTIGACIÓN:\n",
      " ¿Es REVEAL Lite 2 mejor para discriminar el riesgo que los modelos de evaluación del riesgo COMPERA en las evaluaciones basales o de seguimiento? \n",
      "DISEÑO Y MÉTODOS DEL ESTUDIO:\n",
      " Analizamos los datos de los pacientes con HAP inscritos consecutivamente entre el periodo de junio de 2011 a febrero de 2022 en el registro de HAP de nuestro Centro experto en Hipertensión Pulmonar. Los pacientes fueron estratificados de acuerdo con las puntuaciones de riesgo REVEAL Lite 2, COMPERA 3-, y 4 estratos al inicio y en el seguimiento para predecir el resultado compuesto para el trasplante de pulmón o la muerte. Se trazaron curvas ROC para predecir el resultado binario a los 3, 5 y 7 años. Las áreas bajo la curva (AUC) de las puntuaciones se compararon mediante la prueba de ji cuadrado. El rendimiento de las puntuaciones se determinó mediante el estadístico C de Harrel. \n",
      "RESULTADOS:\n",
      " Se incluyeron 296 pacientes para la evaluación inicial y 196 para el seguimiento. La supervivencia global libre de trasplante en nuestra población de pacientes a 1, 3, 5 y 7 años fue del 93,6%, 81,3%, 75,1% y 68,8% respectivamente. Al inicio del estudio, el estadístico C de REVEAL Lite 2 fue de 0,74 (0,69, 0,80), en comparación con el 0,68 (0,63, 0,74) del modelo COMPERA de 4 estratos y el 0,63 (0,58, 0,69) del modelo COMPERA de 3 estratos. Todas las diferencias en el estadístico C entre REVEAL Lite 2 y los demás modelos fueron estadísticamente significativas al inicio del estudio. \n",
      "INTERPRETACIÓN:\n",
      " Nuestro análisis mostró que REVEAL Lite 2 era mejor al inicio para discriminar el riesgo en nuestra población de pacientes. Las directrices futuras deberían considerar la inclusión de REVEAL Lite 2 en el algoritmo de tratamiento para ayudar a los médicos a tomar decisiones informadas. Otros análisis en cohortes más amplias podrían ayudar a validar estos hallazgos.\n"
     ]
    }
   ],
   "source": [
    "print(split_paragraphs(abstract2))"
   ]
  },
  {
   "cell_type": "markdown",
   "metadata": {},
   "source": [
    "modify the config json using streamlit"
   ]
  },
  {
   "cell_type": "code",
   "execution_count": 146,
   "metadata": {},
   "outputs": [
    {
     "name": "stdout",
     "output_type": "stream",
     "text": [
      "selection parameters:  4\n"
     ]
    },
    {
     "data": {
      "text/plain": [
       "' # Allow users to modify the configuration values individually\\nfor key, value in config_data.items():\\n    new_value = input(f\"Enter value for \\'{key}\\':\", value=value)\\n    config_data[key] = new_value\\n\\n# Save the modified configuration back to the JSON file\\nsave_json_file(config_data, file_path) '"
      ]
     },
     "execution_count": 146,
     "metadata": {},
     "output_type": "execute_result"
    }
   ],
   "source": [
    "import json\n",
    "\n",
    "# Function to load JSON file\n",
    "def load_json_file(file_path):\n",
    "    with open(file_path, 'r') as f:\n",
    "        data = json.load(f)\n",
    "    return data\n",
    "\n",
    "# Function to save JSON file\n",
    "def save_json_file(data, file_path):\n",
    "    with open(file_path, 'w') as f:\n",
    "        json.dump(data, f, indent=4)\n",
    "\n",
    "# Path to the JSON file\n",
    "file_path = 'resources/config/config.json'\n",
    "\n",
    "# Load the JSON file\n",
    "config_data = load_json_file(file_path)\n",
    "\n",
    "print('selection parameters: ', config_data['selection_parameters']['query_in_title'])\n",
    "\n",
    "\"\"\" # Allow users to modify the configuration values individually\n",
    "for key, value in config_data.items():\n",
    "    new_value = input(f\"Enter value for '{key}':\", value=value)\n",
    "    config_data[key] = new_value\n",
    "\n",
    "# Save the modified configuration back to the JSON file\n",
    "save_json_file(config_data, file_path) \"\"\""
   ]
  },
  {
   "cell_type": "code",
   "execution_count": 147,
   "metadata": {},
   "outputs": [],
   "source": [
    "dic = {'cualqueir_cosa': 3}"
   ]
  },
  {
   "cell_type": "markdown",
   "metadata": {},
   "source": [
    "## split search terms"
   ]
  },
  {
   "cell_type": "code",
   "execution_count": null,
   "metadata": {},
   "outputs": [],
   "source": [
    "\"(Congenital heart disease) AND (pulmonary hypertension)\",\n",
    "\"(Cardiopulmonary exercise test) AND (pulmonary hypertension)\",\n",
    "\"(Systemic sclerosis) AND (pulmonary hypertension)\",\n",
    "\"(Connective tissue disease) AND (pulmonary hypertension)\",\n",
    "\"pulmonary hypertension\",\n",
    "\"pediatric pulmonary hypertension\",\n",
    "\"pulmonary arterial hypertension\",\n",
    "\"macitentan\",\n",
    "\"selexipag\",\n",
    "\"ambrisenta\",\n",
    "\"bosentan\",\n",
    "\"sotatercept\",\n",
    "\"riociguat\",\n",
    "\"(portopulmonary hypertension) AND (pulmonary hypertension)\",\n",
    "\"(echocardiography) AND (pulmonary hypertension)\",\n",
    "\"CPET AND (pulmonary hypertension)\""
   ]
  }
 ],
 "metadata": {
  "kernelspec": {
   "display_name": "journalrater",
   "language": "python",
   "name": "python3"
  },
  "language_info": {
   "codemirror_mode": {
    "name": "ipython",
    "version": 3
   },
   "file_extension": ".py",
   "mimetype": "text/x-python",
   "name": "python",
   "nbconvert_exporter": "python",
   "pygments_lexer": "ipython3",
   "version": "3.12.2"
  }
 },
 "nbformat": 4,
 "nbformat_minor": 2
}
