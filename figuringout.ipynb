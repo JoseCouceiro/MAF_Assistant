{
 "cells": [
  {
   "cell_type": "code",
   "execution_count": 36,
   "metadata": {},
   "outputs": [],
   "source": [
    "from metapub import PubMedFetcher\n",
    "from metapub import FindIt\n",
    "from datetime import datetime, timedelta\n",
    "from deepl_conect import Translate"
   ]
  },
  {
   "cell_type": "markdown",
   "metadata": {},
   "source": [
    "### App parameters"
   ]
  },
  {
   "cell_type": "code",
   "execution_count": 37,
   "metadata": {},
   "outputs": [],
   "source": [
    "fetch = PubMedFetcher()"
   ]
  },
  {
   "cell_type": "code",
   "execution_count": 38,
   "metadata": {},
   "outputs": [],
   "source": [
    "end_date = datetime.now()\n",
    "start_date = end_date-timedelta(days=7)"
   ]
  },
  {
   "cell_type": "code",
   "execution_count": 39,
   "metadata": {},
   "outputs": [],
   "source": [
    "start_date_str = start_date.strftime('%Y/%m/%d')\n",
    "end_date_str = end_date.strftime('%Y/%m/%d')"
   ]
  },
  {
   "cell_type": "markdown",
   "metadata": {},
   "source": [
    "### User parameters"
   ]
  },
  {
   "cell_type": "markdown",
   "metadata": {},
   "source": [
    "Query"
   ]
  },
  {
   "cell_type": "code",
   "execution_count": 40,
   "metadata": {},
   "outputs": [],
   "source": [
    "query = 'macitentan'"
   ]
  },
  {
   "cell_type": "markdown",
   "metadata": {},
   "source": [
    "Criterios de seleccion\n",
    "- Query en el titulo (+1)\n",
    "- Research clinical trial (rct) en cualquier sitio (+2)\n",
    "- Hecho en España (+2)\n",
    "- Meta-analysis en cualquier sitio (+2)\n",
    "- Es europeo/americano/australiano (+1)   "
   ]
  },
  {
   "cell_type": "code",
   "execution_count": 41,
   "metadata": {},
   "outputs": [],
   "source": [
    "countries = ['usa','canada','italy','france','denmark','austria','belgium','finland','germany','greece','ireland','netherlands','norway','portugal','sweden','switzerland','uk', 'states']\n",
    "query_in_title = 1\n",
    "is_rct = 3\n",
    "made_in_spain = 3\n",
    "is_meta_analysis = 2\n",
    "from_countries = 1\n",
    "threshold = 2"
   ]
  },
  {
   "cell_type": "markdown",
   "metadata": {},
   "source": [
    "Search functions"
   ]
  },
  {
   "cell_type": "code",
   "execution_count": 42,
   "metadata": {},
   "outputs": [],
   "source": [
    "pmids = fetch.pmids_for_query(f'({query}) AND ((\"{start_date_str}\"[Date - Publication] : \"{end_date_str}\"[Date - Publication]))')"
   ]
  },
  {
   "cell_type": "code",
   "execution_count": 43,
   "metadata": {},
   "outputs": [
    {
     "name": "stdout",
     "output_type": "stream",
     "text": [
      "(macitentan) AND ((\"2024/03/01\"[Date - Publication] : \"2024/03/08\"[Date - Publication]))\n"
     ]
    }
   ],
   "source": [
    "print(f'({query}) AND ((\"{start_date_str}\"[Date - Publication] : \"{end_date_str}\"[Date - Publication]))')"
   ]
  },
  {
   "cell_type": "code",
   "execution_count": 44,
   "metadata": {},
   "outputs": [
    {
     "data": {
      "text/plain": [
       "3"
      ]
     },
     "execution_count": 44,
     "metadata": {},
     "output_type": "execute_result"
    }
   ],
   "source": [
    "len(pmids)"
   ]
  },
  {
   "cell_type": "markdown",
   "metadata": {},
   "source": [
    "Classification functions"
   ]
  },
  {
   "cell_type": "code",
   "execution_count": 45,
   "metadata": {},
   "outputs": [],
   "source": [
    "article = fetch.article_by_pmid(str(pmids[0]))"
   ]
  },
  {
   "cell_type": "code",
   "execution_count": 46,
   "metadata": {},
   "outputs": [],
   "source": [
    "def get_affiliations(art):\n",
    "    article_dic = art.to_dict()\n",
    "    affiliations_set = set()\n",
    "    for auth in article_dic['author_list']:\n",
    "        if len(auth.affiliations) != 0:\n",
    "            affiliations_set.add(auth.affiliations[0].split()[-1].strip('.').lower())\n",
    "    return affiliations_set"
   ]
  },
  {
   "cell_type": "code",
   "execution_count": 47,
   "metadata": {},
   "outputs": [
    {
     "data": {
      "text/plain": [
       "{'rchannick@mednet.ucla.edu', 'switzerland', 'usa'}"
      ]
     },
     "execution_count": 47,
     "metadata": {},
     "output_type": "execute_result"
    }
   ],
   "source": [
    "affiliations_set = get_affiliations(article)\n",
    "affiliations_set"
   ]
  },
  {
   "cell_type": "code",
   "execution_count": 48,
   "metadata": {},
   "outputs": [],
   "source": [
    "def from_countries_func(aff_set):\n",
    "    for country in aff_set:\n",
    "        if country in countries:\n",
    "            return True\n",
    "    return False"
   ]
  },
  {
   "cell_type": "code",
   "execution_count": 49,
   "metadata": {},
   "outputs": [
    {
     "data": {
      "text/plain": [
       "True"
      ]
     },
     "execution_count": 49,
     "metadata": {},
     "output_type": "execute_result"
    }
   ],
   "source": [
    "from_countries_func(affiliations_set)"
   ]
  },
  {
   "cell_type": "code",
   "execution_count": 50,
   "metadata": {},
   "outputs": [],
   "source": [
    "def made_in_spain_func(aff_set):\n",
    "    return True if 'spain' in countries else False\n",
    "        "
   ]
  },
  {
   "cell_type": "code",
   "execution_count": 51,
   "metadata": {},
   "outputs": [
    {
     "data": {
      "text/plain": [
       "False"
      ]
     },
     "execution_count": 51,
     "metadata": {},
     "output_type": "execute_result"
    }
   ],
   "source": [
    "made_in_spain_func(affiliations_set)"
   ]
  },
  {
   "cell_type": "code",
   "execution_count": 52,
   "metadata": {},
   "outputs": [],
   "source": [
    "def query_in_title_func(art):\n",
    "    return True if query.lower() in art.title.lower() else False"
   ]
  },
  {
   "cell_type": "code",
   "execution_count": 53,
   "metadata": {},
   "outputs": [
    {
     "data": {
      "text/plain": [
       "True"
      ]
     },
     "execution_count": 53,
     "metadata": {},
     "output_type": "execute_result"
    }
   ],
   "source": [
    "query_in_title_func(article)"
   ]
  },
  {
   "cell_type": "code",
   "execution_count": 54,
   "metadata": {},
   "outputs": [],
   "source": [
    "def is_rct_func(art):\n",
    "    if art.abstract != None:\n",
    "        there_is_rct = 'rct' in art.abstract.lower()\n",
    "        there_is_research = 'research clinical trial' in art.abstract.lower()\n",
    "        return True if (there_is_rct or there_is_research) else False"
   ]
  },
  {
   "cell_type": "code",
   "execution_count": 55,
   "metadata": {},
   "outputs": [
    {
     "data": {
      "text/plain": [
       "False"
      ]
     },
     "execution_count": 55,
     "metadata": {},
     "output_type": "execute_result"
    }
   ],
   "source": [
    "is_rct_func(article)"
   ]
  },
  {
   "cell_type": "code",
   "execution_count": 56,
   "metadata": {},
   "outputs": [],
   "source": [
    "def is_meta_analysis_func(art):\n",
    "    if article.abstract != None:\n",
    "        in_abstract = 'meta-analyis' in article.abstract.lower() \n",
    "        in_title = 'meta-analyis' in article.title.lower()\n",
    "        return True if (in_abstract or in_title) else False"
   ]
  },
  {
   "cell_type": "code",
   "execution_count": 57,
   "metadata": {},
   "outputs": [
    {
     "data": {
      "text/plain": [
       "False"
      ]
     },
     "execution_count": 57,
     "metadata": {},
     "output_type": "execute_result"
    }
   ],
   "source": [
    "is_meta_analysis_func(article)"
   ]
  },
  {
   "cell_type": "markdown",
   "metadata": {},
   "source": [
    "Rater function"
   ]
  },
  {
   "cell_type": "code",
   "execution_count": 64,
   "metadata": {},
   "outputs": [],
   "source": [
    "def rater(art):\n",
    "    affiliations_set = get_affiliations(art)\n",
    "    score = 0\n",
    "    tresh = threshold\n",
    "    if query_in_title_func(art):\n",
    "        score = query_in_title\n",
    "    if from_countries_func(affiliations_set):\n",
    "        score += from_countries\n",
    "    if is_rct_func(art):\n",
    "        score += is_rct\n",
    "    if made_in_spain_func(affiliations_set):\n",
    "        score += made_in_spain\n",
    "    if is_meta_analysis_func(art):\n",
    "        score += is_meta_analysis\n",
    "    print(score)\n",
    "    if score >= threshold:\n",
    "        return True\n",
    "        "
   ]
  },
  {
   "cell_type": "code",
   "execution_count": 65,
   "metadata": {},
   "outputs": [
    {
     "name": "stdout",
     "output_type": "stream",
     "text": [
      "2\n"
     ]
    },
    {
     "data": {
      "text/plain": [
       "True"
      ]
     },
     "execution_count": 65,
     "metadata": {},
     "output_type": "execute_result"
    }
   ],
   "source": [
    "rater(article)"
   ]
  },
  {
   "cell_type": "code",
   "execution_count": 66,
   "metadata": {},
   "outputs": [
    {
     "name": "stdout",
     "output_type": "stream",
     "text": [
      "2\n",
      "2\n",
      "2\n"
     ]
    }
   ],
   "source": [
    "selected = list()\n",
    "for pmid in pmids:\n",
    "    article = fetch.article_by_pmid(str(pmid))\n",
    "    if rater(article):\n",
    "        selected.append(article)\n"
   ]
  },
  {
   "cell_type": "code",
   "execution_count": 67,
   "metadata": {},
   "outputs": [
    {
     "data": {
      "text/plain": [
       "3"
      ]
     },
     "execution_count": 67,
     "metadata": {},
     "output_type": "execute_result"
    }
   ],
   "source": [
    "len(selected)"
   ]
  },
  {
   "cell_type": "markdown",
   "metadata": {},
   "source": [
    "### Display information"
   ]
  },
  {
   "cell_type": "code",
   "execution_count": 62,
   "metadata": {},
   "outputs": [],
   "source": [
    "transl = Translate()"
   ]
  },
  {
   "cell_type": "code",
   "execution_count": 68,
   "metadata": {},
   "outputs": [
    {
     "name": "stderr",
     "output_type": "stream",
     "text": [
      "\u001b[32m2024-03-08 16:06:09\u001b[0m \u001b[35mMSI-Jose\u001b[0m \u001b[34mdeepl[21684]\u001b[0m \u001b[1;30mINFO\u001b[0m Request to DeepL API method=POST url=https://api-free.deepl.com/v2/translate\n"
     ]
    },
    {
     "name": "stdout",
     "output_type": "stream",
     "text": [
      "Macitentan in Pulmonary Arterial Hypertension Associated with Connective Tissue Disease (CTD-PAH): Real-World Evidence from the Combined OPUS/OrPHeUS Dataset.\n",
      "Channick R; Chin KM; McLaughlin VV; Lammi MR; Zamanian RT; Turricchia S; Ong R; Mitchell L; Kim NH\n",
      "https://doi.org/10.1007/s40119-024-00361-w\n"
     ]
    },
    {
     "name": "stderr",
     "output_type": "stream",
     "text": [
      "\u001b[32m2024-03-08 16:06:09\u001b[0m \u001b[35mMSI-Jose\u001b[0m \u001b[34mdeepl[21684]\u001b[0m \u001b[1;30mINFO\u001b[0m DeepL API response status_code=200 url=https://api-free.deepl.com/v2/translate\n"
     ]
    },
    {
     "name": "stdout",
     "output_type": "stream",
     "text": [
      "INTRODUCCIÓN: Los datos sobre la práctica clínica real y los resultados de los pacientes con hipertensión arterial pulmonar asociada a enfermedad del tejido conectivo (HAP-TCP) son escasos. Los estudios OPUS/OrPHeUS incluyeron a pacientes que empezaban a recibir macitentan, incluidos los que padecían HAP-CTD. Este análisis describe las características de los pacientes, los patrones de tratamiento, los resultados y los perfiles de seguridad de los pacientes con CTD-PAH que iniciaron macitentan por primera vez en los EE.UU. utilizando el conjunto de datos combinados OPUS/OrPHeUS.\n",
      "MÉTODOS: OPUS fue un registro de fármacos prospectivo, multicéntrico, observacional y a largo plazo de EE. UU. (abril de 2014-junio de 2020). OrPHeUS fue una revisión de historias clínicas retrospectiva, multicéntrica, estadounidense (octubre de 2013-marzo de 2017). Las características, los patrones de tratamiento, la seguridad y los resultados durante el tratamiento con macitentan de pacientes con CTD-PAH y sus subgrupos esclerosis sistémica (SSc-PAH), lupus eritematoso sistémico (SLE-PAH) y CTD mixto (MCTD-PAH) se compararon descriptivamente con pacientes con HAP idiopática/heritable (I/HPAH).\n",
      "RESULTADOS: La población OPUS/OrPHeUS combinada incluyó 2.498 pacientes con HAP-I/HAP y 1.192 pacientes con HAP-CT (708 HAP-Sc; 159 HAP-LS; 124 HAP-MTC y 201 HAP-CT de otras etiologías). Al inicio del tratamiento con macitentan en los pacientes con HAP-I y HAP-TC, respectivamente: El 61,2 y el 69,3% se encontraban en clase funcional III/IV de la Organización Mundial de la Salud (OMS); la mediana de la distancia caminada en 6 minutos fue de 289 y 279 m; y el 58,1 y el 65,2% recibieron macitentan como tratamiento combinado. Durante el seguimiento, para los pacientes con I/HPAH y CTD-PAH, respectivamente: la mediana de la duración de la exposición a macitentan observada fue de 14,0 y 15,8 meses; el 79,0 y el 83.Las estimaciones de Kaplan-Meier (límites de confianza [LC] del 95%) de pacientes libres de hospitalización por cualquier causa al año fueron del 60,3% (58,1, 62,4) y del 59,3% (56,1, 62,3); y las estimaciones de Kaplan-Meier (LC del 95%) de supervivencia al año fueron del 90,5% (89,1, 91,7) y del 90,6% (88,6, 92,3).\n",
      "CONCLUSIONES: El macitentan se utilizó en la práctica clínica en pacientes con CTD-PAH y sus subgrupos, incluso como terapia combinada. El perfil de seguridad y tolerabilidad de macitentan en pacientes con CTD-PAH fue comparable al de los pacientes con I/HPAH.\n",
      "REGISTRO DEL ENSAYO: Registro de Usuarios de OPsumit® (OPUS): NCT02126943; cohorte de usuarios históricos de Opsumit® (OrPHeUS): NCT03197688; www.\n",
      "CLINICALTRIALS: gov Resumen gráfico disponible para este artículo.\n"
     ]
    },
    {
     "name": "stderr",
     "output_type": "stream",
     "text": [
      "\u001b[32m2024-03-08 16:06:10\u001b[0m \u001b[35mMSI-Jose\u001b[0m \u001b[34mdeepl[21684]\u001b[0m \u001b[1;30mINFO\u001b[0m Request to DeepL API method=POST url=https://api-free.deepl.com/v2/translate\n"
     ]
    },
    {
     "name": "stdout",
     "output_type": "stream",
     "text": [
      "No open access\n",
      "NOFORMAT: No URL format for journal \"Cardiol Ther\"\n",
      "\n",
      "\n",
      "Effect of Macitentan in Pulmonary Arterial Hypertension and the Relationship Between Echocardiography and cMRI Variables: REPAIR Echocardiography Sub-study Results.\n",
      "Torbicki A; Channick R; Galiè N; Kiely DG; Moceri P; Peacock A; Swift AJ; Tawakol A; Vonk Noordegraaf A; Flores D; Martin N; Rosenkranz S\n",
      "https://doi.org/10.1007/s40119-023-00345-2\n"
     ]
    },
    {
     "name": "stderr",
     "output_type": "stream",
     "text": [
      "\u001b[32m2024-03-08 16:06:11\u001b[0m \u001b[35mMSI-Jose\u001b[0m \u001b[34mdeepl[21684]\u001b[0m \u001b[1;30mINFO\u001b[0m DeepL API response status_code=200 url=https://api-free.deepl.com/v2/translate\n"
     ]
    },
    {
     "name": "stdout",
     "output_type": "stream",
     "text": [
      "INTRODUCCIÓN: El objetivo de este subestudio fue evaluar la relación entre las variables de la ecocardiografía (eco) y la resonancia magnética cardiaca (RMc) y utilizar la eco para evaluar el efecto del macitentan en la estructura y función del ventrículo derecho (VD).\n",
      "MÉTODOS: REPAIR (NCT02310672) fue un estudio prospectivo, multicéntrico, de un solo brazo, abierto, de 52 semanas, de fase 4 en pacientes con hipertensión arterial pulmonar (HAP), que investigó el efecto de macitentan 10 mg como monoterapia, o en combinación con un inhibidor de la fosfodiesterasa 5, sobre la estructura, función y hemodinámica del VD utilizando RMNc y cateterismo cardíaco derecho. En este subestudio, los pacientes también fueron evaluados mediante ecografía en el momento del cribado y en las semanas 26 y/o 52. Se realizaron análisis de correlación post hoc entre las variables de eco e IRMc mediante el coeficiente de correlación de Pearson, el coeficiente de correlación de Spearman y análisis de Bland-Altman.\n",
      "RESULTADOS: El subestudio Eco incluyó a 45 pacientes. Se observaron mejoras en el volumen sistólico del VD (VVSR), el VS del ventrículo izquierdo (VVI), el volumen telediastólico del VI (VTDVI), el cambio del área fraccional del VD (CAFVR), la excursión sistólica del plano anular tricuspídeo (TAPSE) y la deformación longitudinal global del VD en 2D (GLRVS 2D) en las semanas 26 y 52 en comparación con los valores basales. Se observó una fuerte correlación entre las variables ecográficas (VVSVI, GLRVS 2D y VDVI) y las de RMNc, con una correlación moderada para la VVSVD. Los análisis de Bland-Altman mostraron una buena concordancia entre la VVI medida por eco y la RMNc, mientras que se observó una sobreestimación de la VVSD medida por eco en comparación con la RMNc (sesgo de - 15 ml). Las variables hemodinámicas y funcionales, así como la seguridad, fueron comparables entre el subestudio Echo y REPAIR.\n",
      "CONCLUSIONES: Se demostró una buena relación entre los parámetros relevantes de eco y RMc. Se observaron mejoras en la estructura y función del VD con el tratamiento con macitentan mediante eco, en consonancia con los resultados observados mediante RMc en el análisis primario del estudio REPAIR. La ecografía es un valioso método complementario a la RMNc, con potencial para monitorizar de forma no invasiva la respuesta al tratamiento durante el seguimiento.\n",
      "NÚMERO DE REGISTRO DEL ENSAYO: REPAIR NCT02310672.\n"
     ]
    },
    {
     "name": "stderr",
     "output_type": "stream",
     "text": [
      "\u001b[32m2024-03-08 16:06:15\u001b[0m \u001b[35mMSI-Jose\u001b[0m \u001b[34mdeepl[21684]\u001b[0m \u001b[1;30mINFO\u001b[0m Request to DeepL API method=POST url=https://api-free.deepl.com/v2/translate\n"
     ]
    },
    {
     "name": "stdout",
     "output_type": "stream",
     "text": [
      "http://europepmc.org/backend/ptpmcrender.fcgi?accid=PMC10899124&blobtype=pdf\n",
      "\n",
      "\n",
      "Safety of Macitentan for the Treatment of Portopulmonary Hypertension: Real-World Evidence from the Combined OPUS/OrPHeUS Studies.\n",
      "Kim NH; Chin KM; McLaughlin VV; DuBrock H; Restrepo-Jaramillo R; Safdar Z; MacDonald G; Martin N; Rosenberg D; Solonets M; Channick R\n",
      "https://doi.org/10.1007/s41030-023-00251-x\n"
     ]
    },
    {
     "name": "stderr",
     "output_type": "stream",
     "text": [
      "\u001b[32m2024-03-08 16:06:16\u001b[0m \u001b[35mMSI-Jose\u001b[0m \u001b[34mdeepl[21684]\u001b[0m \u001b[1;30mINFO\u001b[0m DeepL API response status_code=200 url=https://api-free.deepl.com/v2/translate\n"
     ]
    },
    {
     "name": "stdout",
     "output_type": "stream",
     "text": [
      "INTRODUCCIÓN: La hipertensión portopulmonar (HPP) conlleva un pronóstico peor que otras formas de hipertensión arterial pulmonar (HAP). Los datos relativos al uso de terapias específicas para la HAP en pacientes con HPP son escasos, ya que suelen quedar excluidos de los ensayos clínicos. Este análisis describe las características de los pacientes, los patrones de tratamiento, los resultados y los perfiles de seguridad en pacientes con HAPP que iniciaron macitentan recientemente en los EE.UU. utilizando el conjunto de datos combinados OPUS/OrPHeUS.\n",
      "MÉTODOS: OPUS fue un registro de fármacos prospectivo, multicéntrico y observacional de EE. UU. (abril de 2014 a junio de 2020); OrPHeUS fue una revisión retrospectiva, multicéntrica y de gráficos de EE. UU. (octubre de 2013 a marzo de 2017). Se recopiló retrospectivamente información adicional sobre la enfermedad hepática de los pacientes con PoPH en OPUS.\n",
      "RESULTADOS: El conjunto de datos OPUS/OrPHeUS incluyó 206 pacientes con PoPH (mediana de edad de 58 años; 52,4% mujeres), con cirrosis basal y anomalías en las pruebas hepáticas informadas en el 72,8% y el 31,6% de los pacientes, respectivamente. Macitentan se inició como tratamiento combinado en el 74,8% de los pacientes y la mediana (Q1, Q3) de exposición a macitentan fue de 11,9 (3,1, 26,0) meses. Las estimaciones de Kaplan-Meier a un año (límite de confianza del 95%, CL) de pacientes libres de hospitalización por cualquier causa y de supervivencia fueron del 48,6% (40,7, 56,0) y del 82,2% (75,1, 87,4). De los 96 pacientes con HAP en OPUS, el 29,2% fueron clasificados como necesitados de trasplante hepático debido a enfermedad hepática subyacente durante el estudio; el registro en la lista de espera de trasplante fue excluido debido a la gravedad de la HAP para el 32,1% y el 17,9% fueron trasplantados. El 49,0% de los pacientes experimentaron acontecimientos adversos hepáticos (AEH); los más frecuentes fueron aumento de la bilirrubina (16,0%), ascitis (7,3%) y encefalopatía hepática (5,8%); el 1,5% y el 21,8% de los pacientes dejaron de tomar macitentan como consecuencia de AEH y acontecimientos adversos no hepáticos.\n",
      "CONCLUSIÓN: No hubo hallazgos inesperados de seguridad en pacientes con HPo tratados con macitentan. Estos datos se suman a las pruebas que respaldan la seguridad y tolerabilidad de macitentan en pacientes con HPOP. Un resumen gráfico está disponible con este artículo.\n",
      "REGISTRO DEL ENSAYO: Registro de Usuarios de OPsumit® (OPUS): NCT02126943; Cohorte de usuarios históricos de OPsumit® (OrPHeUS): NCT03197688; www.\n",
      "CLINICALTRIALS: gov .\n",
      "http://europepmc.org/backend/ptpmcrender.fcgi?accid=PMC10881949&blobtype=pdf\n",
      "\n",
      "\n"
     ]
    }
   ],
   "source": [
    "for art in selected:\n",
    "    print(art.title)\n",
    "    print(art.authors_str)\n",
    "    print(f'https://doi.org/{art.doi}')\n",
    "    if art.abstract != None:\n",
    "        print(transl.translate_to_sp(art.abstract))\n",
    "    src = FindIt(str(art.pmid))\n",
    "    if src.url:\n",
    "        print(src.url)\n",
    "    else:\n",
    "        print('No open access')\n",
    "        print(src.reason)\n",
    "    print('\\n')"
   ]
  },
  {
   "cell_type": "code",
   "execution_count": null,
   "metadata": {},
   "outputs": [],
   "source": []
  }
 ],
 "metadata": {
  "kernelspec": {
   "display_name": "journalrater",
   "language": "python",
   "name": "python3"
  },
  "language_info": {
   "codemirror_mode": {
    "name": "ipython",
    "version": 3
   },
   "file_extension": ".py",
   "mimetype": "text/x-python",
   "name": "python",
   "nbconvert_exporter": "python",
   "pygments_lexer": "ipython3",
   "version": "3.12.2"
  }
 },
 "nbformat": 4,
 "nbformat_minor": 2
}
